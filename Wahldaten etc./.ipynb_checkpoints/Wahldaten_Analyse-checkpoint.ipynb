{
 "cells": [
  {
   "cell_type": "raw",
   "id": "ec3c4080-9c7d-45ae-9295-10eb8d7cb177",
   "metadata": {
    "editable": true,
    "raw_mimetype": "",
    "slideshow": {
     "slide_type": ""
    },
    "tags": []
   },
   "source": [
    "title: Wahldaten Analyse\n",
    "author: Max Opperman"
   ]
  },
  {
   "cell_type": "markdown",
   "id": "de2db8a3-9d54-4dfe-8f33-c4d37be7fd91",
   "metadata": {
    "editable": true,
    "slideshow": {
     "slide_type": ""
    },
    "tags": []
   },
   "source": [
    "#### <u>Was ist das hier?</u>\n",
    "Das hier ist ein Jupyter-Notebook, das ich in JupyterLab erstellt habe. Es ist ein interaktives Dokument, das es ermöglicht, Code zu schreiben und auszuführen, Daten zu visualisieren und schriftlich die Arbeitsschritte in einer einzigen Umgebung festzuhalten. Dieser Text, den du/Sie gerade liest/lesen, befindet sich in einer „Zelle.“ Das Inhaltsverzeichnis weiter unten befindet sich in einer separaten Zelle. Zellen können unabhängig voneinander ausgeführt werden; Notebooks sind nicht einfach lange Programme, die insgesamt ausgeführt werden müssten.  \n",
    "Der Vorteil für die Datenanalyse liegt darin, dass Plots, Visualisierungen und Code von erklärenden Texten in natürlicher Sprache begleitet werden können. Links erscheinen in [Blau](#toc) und führen zu anderen Teilen des Dokuments. Jeglicher Code in diesem Notebook ist Python-Code. \n",
    "\n",
    "#### <u>Worum geht es hier?</u>\n",
    "Dieses Notebook enthält eine kleine Beispielanalyse der Wahlergebnisse im Lande Bremen der Bundestagswahl 2021 auf Stadtteilebene. Es geht mir v. a. darum, eine breite Palette an Wissen zu demonstrieren; die tatsächlichen Ergebnisse der Analyse sind nachrangig.  \n",
    "Erst bereite ich einige Daten vom Bremer Landesamt für Statistik auf. Dies umfasst die tatsächlichen Wahlergebnisse aber auch einige soziale Daten, von denen ich vermutete, dass sie einen Einfluss haben könnten – z. B. die Arbeitslosenquote oder der Anteil der Bevölkerung, der im (bremenweit errechneten) untersten Einkommensfünftel lebt.  \n",
    "Die anschließende Analyse erkläre ich weiter unten. Aber einige Einsichten, die man aus den Daten herausbekommt, sind die folgenden:  \n",
    "1. Die Stadtteile, die tendenziell die SPD wählen, zeigen ein [ähnliches soziales Profil](#2,2,e) wie die, die eher die AfD wählen. (Genau) ein latenter Faktor, der als „Sozialschwäche“ bezeichnet werden könnte, erklärt etwa die Hälfte der Unterschiede in den Stimmenanteilen zwischen SPD und AfD.\n",
    "2. Die Zusammenhänge zwischen den sozialen Variablen und Wahlergebnissen sind [linear und simpel](#2,4). Es gibt keine erheblichen Nichtlinearitäten oder Interaktionen zwischen verschiedenen Variablen.\n",
    "3. Der Erststimmenanteil der SPD korreliert zwar erheblich [negativ mit der Wahlbeteiligung](#Wahlbeteiligung1), das ist aber [kein echter Effekt](#Wahlbeteiligung2) sondern liegt an starker Multikollinearität mit anderen, wichtigeren Variablen (d. h. die Wahlbeteiligung korreliert stark mit diesen anderen Variablen).\n",
    "4. SPD-Wähler [splitten ihre Stimmen nicht](#Stimmensplitting). Wer der SPD seine Erststimme gibt, gibt ihr auch die Zweitstimme und umgekehrt.\n",
    "5. Die [Konkurrenz zwischen den Parteien](#Zweitstimmen-Konkurrenz) um die Zweitstimme ist ausgeprägter als um die Erststimme – mit Ausnahme der Linken.\n",
    "\n",
    "Unterwegs erkläre ich einige statistische Konzepte wie [P-Werte](#P-Werte) und [Signifikanz](#Signifikanz) oder den [Unterschied](#2,3,d) zwischen Statistiken, die einem erlauben, Dinge zu verstehen, und solche, die gute Voraussagen machen\n",
    "\n",
    "\n",
    "\n",
    "Unter jedem Titel steht \"[Hoch](#toc).\" Wenn man da drauf klickt, gelangt man zurück zum Inhaltsverzeichnis."
   ]
  },
  {
   "cell_type": "markdown",
   "id": "747a62fb-02ad-4dbb-b6b2-e32416f4599e",
   "metadata": {
    "editable": true,
    "slideshow": {
     "slide_type": ""
    },
    "tags": []
   },
   "source": [
    "# Inhaltsverzeichnis<a name=\"toc\"></a>\n",
    "1. [Daten aufbereiten](#1)\n",
    "   * [Wahldaten 2021](#1,1)  \n",
    "   * [Einkommensteuer-Verteilung 2020](#1,2)\n",
    "   * [Ausländer und Gesamtbevölkerung](#1,3)\n",
    "   * [Arbeitslose und Hartz IV](#1,4)\n",
    "   * [Alles Zusammen](#1,5)\n",
    "2. [Daten analysieren](#2)\n",
    "   * [Einfache Korrelationen und Plots](#2,1)  \n",
    "     a) [P-Werte](#P-Werte)  \n",
    "     b) [Multiple Regression](#2,1,b)  \n",
    "     c) [Ausreißer?](#2,1,c)  \n",
    "     d) [Variance Inflation Factor](#2,1,d)  \n",
    "     e) [ANOVA](#2,1,e)  \n",
    "   * [Faktorenanalyse](#2,2)  \n",
    "     a) [Sind die Daten für Faktorenanalyse geeignet?](#2,2,a)  \n",
    "     b) [Wie viel Faktoren?](#2,2,b)  \n",
    "     c) [Regression mit Factor Scores](#2,2,c)  \n",
    "     d) [Signifikanz](#Signifikanz)  \n",
    "     e) [Auswertung](#2,2,e)  \n",
    "   * [LASSO und Validierung](#2,3)  \n",
    "     a) [Das LASSO-Modell anpassen](#2,3,a)  \n",
    "     b) [Interpretation des LASSO-Modells](#2,3,b)  \n",
    "     c) [Validieren der Modelle](#2,3,c)  \n",
    "     d) [Verstehen vs. Voraussagen](#2,3,d)  \n",
    "   * [Mit Kanonen auf Spatzen: Random Forests und Boosting](#2,4)  \n",
    "3. [Was könnte man sonst noch machen?](#3)"
   ]
  },
  {
   "cell_type": "code",
   "execution_count": 32,
   "id": "b45a3c27-82f0-4441-b61f-8547fee4a29e",
   "metadata": {
    "editable": true,
    "slideshow": {
     "slide_type": ""
    },
    "tags": []
   },
   "outputs": [],
   "source": [
    "import pandas as pd\n",
    "import numpy as np\n",
    "\n",
    "from factor_analyzer import FactorAnalyzer, calculate_kmo, calculate_bartlett_sphericity\n",
    "\n",
    "import matplotlib.pyplot as plt\n",
    "from matplotlib.pyplot import subplots\n",
    "\n",
    "from sklearn.ensemble import RandomForestRegressor\n",
    "from sklearn.linear_model import LassoCV, LinearRegression\n",
    "from sklearn.metrics import mean_squared_error\n",
    "from sklearn.model_selection import train_test_split\n",
    "from sklearn.pipeline import Pipeline\n",
    "from sklearn.preprocessing import StandardScaler\n",
    "\n",
    "from scipy.stats import pearsonr\n",
    "\n",
    "import statsmodels.api as sm\n",
    "import statsmodels.formula.api as smf\n",
    "from statsmodels.stats.anova import anova_lm\n",
    "from statsmodels.stats.outliers_influence import variance_inflation_factor as VIF\n",
    "\n",
    "import xgboost as xgb"
   ]
  },
  {
   "cell_type": "markdown",
   "id": "d1c1b1b8-2036-48ab-8bf5-634b43d2e107",
   "metadata": {
    "editable": true,
    "jp-MarkdownHeadingCollapsed": true,
    "slideshow": {
     "slide_type": ""
    },
    "tags": []
   },
   "source": [
    "# Daten aufbereiten <a name=\"1\"></a>   \n",
    "[Hoch](#toc)"
   ]
  },
  {
   "cell_type": "markdown",
   "id": "55ea5607-4e3f-4711-bbaa-d61b42c03f4b",
   "metadata": {},
   "source": [
    "*In diesem Teil geht es nur darum, wie die Daten verarbeitet werden mussten, um nutzbar zu sein. Er kann ohne Verständnisverlust übersprungen werden.*"
   ]
  },
  {
   "cell_type": "markdown",
   "id": "23046449-a388-4fa1-97e0-564faf9608c2",
   "metadata": {
    "editable": true,
    "slideshow": {
     "slide_type": ""
    },
    "tags": []
   },
   "source": [
    "Alle Daten sind vom Landesamt für Statistik, aber sie sind nicht unbedingt im nutzerfreundlichsten Format, weshalb ich alle Daten ein wenig bearbeiten musste und sie nicht einfach direkt ins Notebook laden kann. Mehr zu den einzelnen Verarbeitungen weiter unten, aber zusammengefasst:\n",
    "\n",
    "1.) Die Wahldaten-Datei enthält Informationen für alle Regionen, auch wenn nur Stadtteildaten gewünscht sind. Einige Zeilen müssen gelöscht werden, da die erste Zeile die Überschrift und nicht die Spaltentitel enthält. Entweder werden einige Zeilen übersprungen oder alle Spalten neu benannt. \n",
    "\n",
    "2.) Die Einkommensteuer-Verteilung für Bremen gibt die Grenzen für das unterste und oberste Einkommensfünftel an. Ich berechne für jeden Stadtteil, wie viele Personen unterhalb und oberhalb dieser Grenzen leben, da das statistische Landesamt diese Daten nicht direkt bereitstellt. \n",
    "\n",
    "3.) Auch den Anteil an der Gesamtbevölkerung in den Stadtteilen, den Ausländer darstellen, bietet das Landesamt, glaube ich, nicht direkt an. Ich errechne ihn daher selbst.\n",
    "\n",
    "4.) Die Arbeitslosenquote wird nur vierteljährlich bereitgestellt. Ich berechne daher den Durchschnitt der Quote für das Jahr vor der Bundestagswahl 2021. Dasselbe gilt für die absoluten SGB-II-Leistungen, die nur vierteljährlich vorliegen. Zusätzlich berechne ich die Leistungen pro Kopf, um die Abhängigkeit von der Bevölkerungszahl zu berücksichtigen."
   ]
  },
  {
   "cell_type": "markdown",
   "id": "2662d77e-1a34-4b88-8706-3403ef799098",
   "metadata": {},
   "source": [
    "### Wahldaten 2021 <a name=\"1,1\"></a>  \n",
    "[Hoch](#toc)"
   ]
  },
  {
   "cell_type": "markdown",
   "id": "c291c709-df60-4c34-b89b-dc1587aae0b8",
   "metadata": {},
   "source": [
    "Erst- und Zweitstimmen sind auf unterschiedlichen Blättern in der Excel-Datei, können aber fast gleich behandelt werden. Die Zahlen zur Briefwahl sind nur auf dem ersten Blatt und müssen nur davon gelöscht werden. Außerdem ignoriere ich kleine Parteien. Nur SPD, CDU, Grüne, Linke, FDP und AfD bleiben im DataFrame<sup>†</sup>. Die Regionen Seehausen, Strom, Borgfeld und Blockland sind zwischen den Stadtteilen und müssen gesondert entfernt werden.\n",
    "\n",
    "<br>\n",
    "\n",
    "<hr style=\"width: 10%; text-align: left; margin-left: 0;\">\n",
    "\n",
    "<small>† Ein \"DataFrame\" ist eine mächtigere Version einer Excel-Tabelle. Verschiedene Arten von Daten (Zahlen, Text, Kalenderdaten, ...) können in seinen Zeilen und Spalten gespeichert werden und man kann diese Daten leichter analysieren, filtern oder sonst verarbeiten</small>"
   ]
  },
  {
   "cell_type": "code",
   "execution_count": 33,
   "id": "6eacae77-13bf-4549-8000-901f276c46ae",
   "metadata": {
    "editable": true,
    "slideshow": {
     "slide_type": ""
    },
    "tags": []
   },
   "outputs": [],
   "source": [
    "erststimmen_2021 = pd.read_excel('Wahldaten 2021.xlsx', sheet_name=0) \n",
    "\n",
    "# Fixing the wrongly imported column names.\n",
    "# Because of the layout, if you don't set that NaN value at [0, 1] to 'region' (or any other not NaN), both the first and the second column get dropped in the next step.\n",
    "erststimmen_2021.iloc[0,1] = 'region'\n",
    "erststimmen_2021.columns = erststimmen_2021.iloc[0]\n",
    "\n",
    "# Dropping Codes, Briefwahl (4 and 5), stärkste Partei (6 and 7), and small parties.\n",
    "drop_columns = [0, 4, 5, 6, 7] + list(range(20, erststimmen_2021.shape[1]))\n",
    "erststimmen_2021 = erststimmen_2021.drop(erststimmen_2021.columns[drop_columns], axis=1)"
   ]
  },
  {
   "cell_type": "code",
   "execution_count": 34,
   "id": "15fef15a-475e-4626-9d93-c3db693388c3",
   "metadata": {
    "editable": true,
    "slideshow": {
     "slide_type": ""
    },
    "tags": []
   },
   "outputs": [],
   "source": [
    "# Isolating the Stadtteile\n",
    "start_index = erststimmen_2021[erststimmen_2021['region'] == 'Mitte (Bremen)'].index[0]\n",
    "df_filtered_partial = erststimmen_2021.loc[start_index + 1:]\n",
    "end_index = df_filtered_partial[df_filtered_partial['region'] == 'Blumenthal'].index[0]\n",
    "\n",
    "df_filtered = erststimmen_2021.loc[start_index:end_index]\n",
    "\n",
    "# Dropping rows of non-Stadtteile in between\n",
    "df_filtered = df_filtered[~df_filtered['region'].isin(['Seehausen', 'Strom', 'Borgfeld', 'Blockland'])]\n",
    "\n",
    "# Adding in Land Bremen, Stadt Bremen, Stadt Bremerhaven\n",
    "df_add = erststimmen_2021.iloc[[161, 159, 160]]\n",
    "erststimmen_2021_sortiert = pd.concat([df_add, df_filtered], ignore_index=True)\n",
    "\n",
    "# Making the names consistent with my other tables\n",
    "cleaned_erststimmen_2021 = erststimmen_2021_sortiert\n",
    "cleaned_erststimmen_2021['region'] = erststimmen_2021_sortiert['region'].replace({'Mitte (Bremen)':'Mitte', 'Oestliche Vorstadt':'Östliche Vorstadt'})\n"
   ]
  },
  {
   "cell_type": "code",
   "execution_count": 35,
   "id": "e05b7c04-6955-497b-8e7d-c1768e5fc28a",
   "metadata": {
    "editable": true,
    "slideshow": {
     "slide_type": ""
    },
    "tags": []
   },
   "outputs": [],
   "source": [
    "zweitstimmen_2021 = pd.read_excel('Wahldaten 2021.xlsx', sheet_name=1)\n",
    "zweitstimmen_2021.iloc[0,1] = 'region'\n",
    "zweitstimmen_2021.columns = zweitstimmen_2021.iloc[0]\n",
    "\n",
    "# ... Different numbers but same thing\n",
    "drop_columns = [0, 2, 3] + list(range(16, zweitstimmen_2021.shape[1]))\n",
    "zweitstimmen_2021 = zweitstimmen_2021.drop(zweitstimmen_2021.columns[drop_columns], axis=1)\n",
    "\n",
    "# ...\n",
    "start_index = zweitstimmen_2021[zweitstimmen_2021['region'] == 'Mitte (Bremen)'].index[0]\n",
    "df_filtered_partial = zweitstimmen_2021.loc[start_index + 1:]\n",
    "end_index = df_filtered_partial[df_filtered_partial['region'] == 'Blumenthal'].index[0]\n",
    "\n",
    "df_filtered = zweitstimmen_2021.loc[start_index:end_index]\n",
    "\n",
    "# ...\n",
    "df_filtered = df_filtered[~df_filtered['region'].isin(['Seehausen', 'Strom', 'Borgfeld', 'Blockland'])]\n",
    "\n",
    "# ...\n",
    "df_add = zweitstimmen_2021.iloc[[161, 159, 160]]\n",
    "zweitstimmen_2021_sortiert = pd.concat([df_add, df_filtered], ignore_index=True)\n",
    "\n",
    "# ...\n",
    "cleaned_zweitstimmen_2021 = zweitstimmen_2021_sortiert\n",
    "cleaned_zweitstimmen_2021['region'] = zweitstimmen_2021_sortiert['region'].replace({'Mitte (Bremen)':'Mitte', 'Oestliche Vorstadt':'Östliche Vorstadt'})\n"
   ]
  },
  {
   "cell_type": "code",
   "execution_count": 36,
   "id": "8685199a-6a0f-4d41-99f3-7f5b3909eb0b",
   "metadata": {
    "editable": true,
    "slideshow": {
     "slide_type": ""
    },
    "tags": []
   },
   "outputs": [],
   "source": [
    "cleaned_wahl_2021 = pd.merge(cleaned_erststimmen_2021, cleaned_zweitstimmen_2021, on='region')\n"
   ]
  },
  {
   "cell_type": "markdown",
   "id": "e7f4c721-71d1-426f-bd78-d123eec987b7",
   "metadata": {
    "editable": true,
    "slideshow": {
     "slide_type": ""
    },
    "tags": []
   },
   "source": [
    "### Einkommensteuer-Verteilung 2020 <a name=\"1,2\"></a>  \n",
    "[Hoch](#toc)"
   ]
  },
  {
   "cell_type": "markdown",
   "id": "ed6f9c1d-509b-41dd-810c-4af16b736b8c",
   "metadata": {},
   "source": [
    "Das statistische Landesamt verwendet das veraltete ISO-8859-1-Encoding für seine Symbole, anstelle des neueren UTF-8, das eine größere Anzahl von Symbolen repräsentieren kann und von Pandas – der Bibliothek für DataFrame-Funktionalität – erwartet wird. Zudem kann Pandas nicht korrekt mit Umlauten umgehen, was jedoch kein Fehler des Landesamts ist."
   ]
  },
  {
   "cell_type": "code",
   "execution_count": 37,
   "id": "4200479a-cf21-4374-bb10-fc334a838832",
   "metadata": {
    "editable": true,
    "slideshow": {
     "slide_type": ""
    },
    "tags": []
   },
   "outputs": [],
   "source": [
    "df_einkommen = pd.read_csv('Einkommensteuer-Verteilung 2020.csv', \n",
    "                           encoding='ISO-8859-1', \n",
    "                           skiprows=2, \n",
    "                           on_bad_lines='skip', \n",
    "                           sep=';')\n",
    "\n",
    "# Last rows are just copyright. First column are incomprehensible codes for each region. Third column is the year; 2020 for all of them.\n",
    "df_einkommen= df_einkommen.drop(df_einkommen.index[242:]).drop(df_einkommen.columns[0], axis=1).drop(df_einkommen.columns[2], axis=1).reset_index(drop=True)\n",
    "\n",
    "# The column names were a little unwieldy or contained umlauts.\n",
    "df_einkommen.rename(columns={\n",
    "    df_einkommen.columns[0]: 'region',\n",
    "    df_einkommen.columns[1]: 'range_euro',\n",
    "    df_einkommen.columns[2]: 'num_steuerpflichtige'}, inplace=True)\n",
    "\n",
    "# More umlauts in the regions\n",
    "df_einkommen.iloc[:, 0] = df_einkommen.iloc[:, 0].replace({'HÃ¤fen': 'Häfen',\n",
    "                                                           'Ã\\x96stliche': 'Östliche',\n",
    "                                                           'GrÃ¶pelingen': 'Gröpelingen'}, regex=True)\n"
   ]
  },
  {
   "cell_type": "code",
   "execution_count": 38,
   "id": "281ea6c6-d1ed-47c8-ae82-8e75891b7418",
   "metadata": {
    "editable": true,
    "slideshow": {
     "slide_type": ""
    },
    "tags": []
   },
   "outputs": [
    {
     "data": {
      "text/html": [
       "<div>\n",
       "<style scoped>\n",
       "    .dataframe tbody tr th:only-of-type {\n",
       "        vertical-align: middle;\n",
       "    }\n",
       "\n",
       "    .dataframe tbody tr th {\n",
       "        vertical-align: top;\n",
       "    }\n",
       "\n",
       "    .dataframe thead th {\n",
       "        text-align: right;\n",
       "    }\n",
       "</style>\n",
       "<table border=\"1\" class=\"dataframe\">\n",
       "  <thead>\n",
       "    <tr style=\"text-align: right;\">\n",
       "      <th></th>\n",
       "      <th>region</th>\n",
       "      <th>range_euro</th>\n",
       "      <th>num_steuerpflichtige</th>\n",
       "    </tr>\n",
       "  </thead>\n",
       "  <tbody>\n",
       "    <tr>\n",
       "      <th>0</th>\n",
       "      <td>Land Bremen</td>\n",
       "      <td>0-5000</td>\n",
       "      <td>51225</td>\n",
       "    </tr>\n",
       "    <tr>\n",
       "      <th>1</th>\n",
       "      <td>Land Bremen</td>\n",
       "      <td>5000-10000</td>\n",
       "      <td>24398</td>\n",
       "    </tr>\n",
       "    <tr>\n",
       "      <th>2</th>\n",
       "      <td>Land Bremen</td>\n",
       "      <td>10000-15000</td>\n",
       "      <td>27302</td>\n",
       "    </tr>\n",
       "    <tr>\n",
       "      <th>3</th>\n",
       "      <td>Land Bremen</td>\n",
       "      <td>15000-20000</td>\n",
       "      <td>29249</td>\n",
       "    </tr>\n",
       "    <tr>\n",
       "      <th>4</th>\n",
       "      <td>Land Bremen</td>\n",
       "      <td>20000-25000</td>\n",
       "      <td>27095</td>\n",
       "    </tr>\n",
       "  </tbody>\n",
       "</table>\n",
       "</div>"
      ],
      "text/plain": [
       "        region   range_euro num_steuerpflichtige\n",
       "0  Land Bremen       0-5000                51225\n",
       "1  Land Bremen   5000-10000                24398\n",
       "2  Land Bremen  10000-15000                27302\n",
       "3  Land Bremen  15000-20000                29249\n",
       "4  Land Bremen  20000-25000                27095"
      ]
     },
     "execution_count": 38,
     "metadata": {},
     "output_type": "execute_result"
    }
   ],
   "source": [
    "df_einkommen.head()"
   ]
  },
  {
   "cell_type": "markdown",
   "id": "9583eb07-2a45-4f06-9300-eefa32722d1c",
   "metadata": {},
   "source": [
    "Wie diese Daten direkt zeigen, haben im Land Bremen jeweils etwa 20% der Bevölkerung unter 10.000€ und über 50.000€ zu versteuerndes Einkommen. Als nächstes produziere ich daher eine Tabelle, die für jeden Stadtteil den Anteil der Bevölkerung im untersten und obersten Einkommens-Quintil anzeigt (tatsächlich sind es natürlich Einkommen*steuer*-Quintile)."
   ]
  },
  {
   "cell_type": "code",
   "execution_count": 39,
   "id": "285b7e29-b2dc-4791-8987-5441fb46493f",
   "metadata": {
    "editable": true,
    "slideshow": {
     "slide_type": ""
    },
    "tags": []
   },
   "outputs": [],
   "source": [
    "brackets_lo = ['0-5000', '5000-10000']\n",
    "brackets_hi = ['50000-125000', '125000 oder mehr']\n",
    "\n",
    "results_arm = []\n",
    "results_reich = []\n",
    "\n",
    "counties = df_einkommen['region'].unique()\n",
    "\n",
    "for county in counties:\n",
    "    \n",
    "    county_data = df_einkommen[df_einkommen['region'] == county].copy()\n",
    "    \n",
    "    # num_steuerpflichtige is a bunch of strings.\n",
    "    # The errors='coerce' forces the missing values in \"Häfen\" to be NaN\n",
    "    county_data['num_steuerpflichtige'] = pd.to_numeric(county_data['num_steuerpflichtige'], errors='coerce')\n",
    "    \n",
    "    lo_bracket_taxpayers = county_data[county_data['range_euro'].isin(brackets_lo)]['num_steuerpflichtige'].sum()\n",
    "    hi_bracket_taxpayers = county_data[county_data['range_euro'].isin(brackets_hi)]['num_steuerpflichtige'].sum()\n",
    "    \n",
    "    # Calculate the proportion\n",
    "    total_taxpayers = county_data.iloc[-1]['num_steuerpflichtige']\n",
    "    \n",
    "    proportion_lo = lo_bracket_taxpayers / total_taxpayers\n",
    "    proportion_hi = hi_bracket_taxpayers / total_taxpayers\n",
    "    \n",
    "    results_arm.append({'region': county, 'anteil_erstes_quint': proportion_lo})\n",
    "    results_reich.append({'region': county, 'anteil_letztes_quint': proportion_hi})\n",
    "\n",
    "df_quint_arm = pd.DataFrame(results_arm)\n",
    "df_quint_reich = pd.DataFrame(results_reich)\n",
    "\n",
    "df_anteil_einkommen_unsortiert = pd.merge(df_quint_arm, df_quint_reich, on='region')\n"
   ]
  },
  {
   "cell_type": "markdown",
   "id": "b880b71c-b572-4816-96d5-852ff84c4860",
   "metadata": {
    "editable": true,
    "slideshow": {
     "slide_type": ""
    },
    "tags": []
   },
   "source": [
    "Dann ist noch die Zeile \"Stadt Bremerhaven\" ganz am Ende. Die nächste Zelle sortiert das um und entfernt das \"(Stadtteil)\" Addendum aus allen Zeilen."
   ]
  },
  {
   "cell_type": "code",
   "execution_count": 40,
   "id": "6a1309c2-5d7e-4302-90fd-96814115830b",
   "metadata": {
    "editable": true,
    "slideshow": {
     "slide_type": ""
    },
    "tags": []
   },
   "outputs": [],
   "source": [
    "last_row = df_anteil_einkommen_unsortiert.iloc[-1]\n",
    "\n",
    "# Drop the last row\n",
    "df = df_anteil_einkommen_unsortiert.iloc[:-1]\n",
    "\n",
    "# Insert the last row as the second row\n",
    "df = pd.concat([df_anteil_einkommen_unsortiert.iloc[:2], pd.DataFrame([last_row], columns=df.columns), df.iloc[2:]], ignore_index=True)\n",
    "\n",
    "# Cleaning up the names. If expand=True, extract() returns a DataFrame which has not .str.strip() method.\n",
    "df['region'] = df['region'].str.extract(r'([^(]+)', expand=False).str.strip()\n",
    "\n",
    "\n",
    "df_anteil_einkommen = df"
   ]
  },
  {
   "cell_type": "markdown",
   "id": "4456ed00-df68-467f-b46e-003ad3fc27c8",
   "metadata": {},
   "source": [
    "Da andere Daten nur für Bremen Stadt verfügbar sind, produziere ich auch eine Tabelle ohne Bremerhaven und Land Bremen."
   ]
  },
  {
   "cell_type": "code",
   "execution_count": 41,
   "id": "50050391-f053-4acb-85ea-401eb8a4b034",
   "metadata": {
    "editable": true,
    "slideshow": {
     "slide_type": ""
    },
    "tags": []
   },
   "outputs": [],
   "source": [
    "cleaned_einkommen = df_anteil_einkommen.drop([0, 2]).reset_index(drop=True)"
   ]
  },
  {
   "cell_type": "markdown",
   "id": "b5e5a991-7dac-45a2-9c3d-022da1c6cf45",
   "metadata": {
    "editable": true,
    "slideshow": {
     "slide_type": ""
    },
    "tags": []
   },
   "source": [
    "### Ausländer und Gesamtbevölkerung <a name=\"1,3\"></a>  \n",
    "[Hoch](#toc)"
   ]
  },
  {
   "cell_type": "markdown",
   "id": "7fe4039e-f9e0-4895-8a11-cb7c652c789d",
   "metadata": {
    "editable": true,
    "slideshow": {
     "slide_type": ""
    },
    "tags": []
   },
   "source": [
    "Hier musste nur der Anteil der ausländischen Bevölkerung aus den absoluten Zahlen errechnet werden."
   ]
  },
  {
   "cell_type": "code",
   "execution_count": 42,
   "id": "353c0626-05f6-478c-b9ec-debca661e9d8",
   "metadata": {
    "editable": true,
    "slideshow": {
     "slide_type": ""
    },
    "tags": []
   },
   "outputs": [],
   "source": [
    "df_ausländer = pd.read_csv('Anzahl Ausländer (Ende 2020).csv', \n",
    "                           encoding='ISO-8859-1', \n",
    "                           skiprows=1, \n",
    "                           on_bad_lines='skip', \n",
    "                           sep=';')\n",
    "df_ausländer = df_ausländer.drop(['Gebietsschlüssel', 'Zeit', 'Migrationsstatus 1)', 'Bevölkerung 2).1',\t'Bevölkerung 2).2'], axis=1)[3:23]\n",
    "df_ausländer.columns = ['region', 'num_ausländer']\n",
    "df_ausländer.reset_index(drop=True);\n"
   ]
  },
  {
   "cell_type": "code",
   "execution_count": 48,
   "id": "0a80ca54-9088-4cb1-89ee-c1976cc4b414",
   "metadata": {
    "editable": true,
    "slideshow": {
     "slide_type": ""
    },
    "tags": []
   },
   "outputs": [],
   "source": [
    "df_bevölkerung = pd.read_csv('Bevölkerungsanzahl 2020.csv', \n",
    "                           encoding='ISO-8859-1', \n",
    "                           skiprows=1, \n",
    "                           on_bad_lines='skip', \n",
    "                           sep=';')\n",
    "df_bevölkerung = df_bevölkerung.drop(df_bevölkerung.columns[[0, 2, 3]], axis=1)[1:21]\n",
    "df_bevölkerung.columns = ['region', 'num_bevölkerung']\n",
    "df_bevölkerung.reset_index(drop=True)\n",
    "\n",
    "merge = pd.merge(df_bevölkerung, df_ausländer, on='region')\n",
    "merge['region'] = merge['region'].str.extract(r'([^(]+)', expand=False).str.strip()\n",
    "\n",
    "# Convert the columns to numeric types\n",
    "merge['num_bevölkerung'] = pd.to_numeric(merge['num_bevölkerung'], errors='coerce')\n",
    "merge['num_ausländer'] = pd.to_numeric(merge['num_ausländer'], errors='coerce')\n",
    "\n",
    "\n",
    "merge['anteil_ausländer'] = merge['num_ausländer'] / merge['num_bevölkerung']\n",
    "\n",
    "cleaned_bevölkerung = merge\n"
   ]
  },
  {
   "cell_type": "markdown",
   "id": "92f3f960-9c25-4dfa-9084-c26947615138",
   "metadata": {
    "editable": true,
    "slideshow": {
     "slide_type": ""
    },
    "tags": []
   },
   "source": [
    "### Arbeitslose und Hartz IV <a name=\"1,4\"></a>  \n",
    "[Hoch](#toc)"
   ]
  },
  {
   "cell_type": "markdown",
   "id": "48f777cc-06e0-49a0-944b-8ca79dc53a21",
   "metadata": {},
   "source": [
    "Die durchschnittliche Arbeitlosenquote pro Stadtteil im Jahr vor der Bundestagswahl 2021. Das wird nicht direkt vom statistischen Landesamt zur Verfügung gestellt, sondern muss per Hand errechnet werden. Da Pandas von einem Amerikaner grundsätzlich für Amerikaner produziert wurde, kann es nicht mit der deutschen Konvention umgehen, Dezimalstellen mit Kommas statt mit Punkten abzutrennen (1,0 statt 1.0)."
   ]
  },
  {
   "cell_type": "code",
   "execution_count": 44,
   "id": "79873593-608b-44b0-9842-4efed202758a",
   "metadata": {
    "editable": true,
    "slideshow": {
     "slide_type": ""
    },
    "tags": []
   },
   "outputs": [],
   "source": [
    "df_arbeit = pd.read_csv('Arbeitslosenquote (Sept. 2020 bis Juni 2023).csv', \n",
    "                           encoding='ISO-8859-1', \n",
    "                           skiprows=1, \n",
    "                           on_bad_lines='skip', \n",
    "                           sep=';')\n",
    "\n",
    "stadtteile = df_arbeit['Gebietseinheit'].unique()\n",
    "quartale = ['2021-06-30', '2021-03-31', '2020-12-31', '2020-09-30']\n",
    "results_quoten = []\n",
    "\n",
    "for stadtteil in stadtteile:\n",
    "    data = df_arbeit[df_arbeit['Gebietseinheit'] == stadtteil].copy()\n",
    "\n",
    "    data['Arbeitslosenziffer (in %)'] = data['Arbeitslosenziffer (in %)'].str.replace(',', '.')\n",
    "    data['Arbeitslosenziffer (in %)'] = pd.to_numeric(data['Arbeitslosenziffer (in %)'], errors='coerce')\n",
    "\n",
    "    avg_quote = data[data['Zeit'].isin(quartale)]['Arbeitslosenziffer (in %)'].sum() / 4.0\n",
    "\n",
    "    results_quoten.append({'region':stadtteil, 'arbeitslosenquote_vor_wahl':avg_quote})\n",
    "\n",
    "cleaned_arbeitslosenquote = pd.DataFrame(results_quoten)[1:21]\n",
    "cleaned_arbeitslosenquote.reset_index(drop=True);"
   ]
  },
  {
   "cell_type": "code",
   "execution_count": 49,
   "id": "e3863e10-8e9a-4636-8705-46a96e7ea439",
   "metadata": {
    "editable": true,
    "slideshow": {
     "slide_type": ""
    },
    "tags": []
   },
   "outputs": [],
   "source": [
    "df_sgbII = pd.read_csv('SGB-II Leistungen, Sept 2020 bis Juni 2023.csv', \n",
    "                           encoding='ISO-8859-1', \n",
    "                           skiprows=1, \n",
    "                           on_bad_lines='skip', \n",
    "                           sep=';')\n",
    "\n",
    "stadtteile = df_sgbII['Gebietseinheit'].unique()\n",
    "quartale = ['2021-06-30', '2021-03-31', '2020-12-31', '2020-09-30']\n",
    "results_euro = []\n",
    "\n",
    "for stadtteil in stadtteile:\n",
    "    data = df_sgbII[df_sgbII['Gebietseinheit'] == stadtteil].copy()\n",
    "\n",
    "    data['Grundsicherung für Arbeitsuchende (SGB II) 1).2'] = pd.to_numeric(data['Grundsicherung für Arbeitsuchende (SGB II) 1).2'], errors='coerce')\n",
    "\n",
    "    avg_euro = data[data['Zeit'].isin(quartale)]['Grundsicherung für Arbeitsuchende (SGB II) 1).2'].sum() / 4.0\n",
    "\n",
    "    results_euro.append({'region':stadtteil, 'sgbII_leistungen_vor_wahl':avg_euro})\n",
    "\n",
    "cleaned_sgbII = pd.DataFrame(results_euro)[1:]\n",
    "cleaned_sgbII.reset_index(drop=True)\n",
    "\n",
    "merge = pd.merge(cleaned_arbeitslosenquote, cleaned_sgbII, on='region')\n",
    "merge['region'] = merge['region'].str.extract(r'([^(]+)', expand=False).str.strip()\n",
    "cleaned_soziales = merge\n"
   ]
  },
  {
   "cell_type": "markdown",
   "id": "e947e0ca-c56c-4a69-bb71-c1390d2d2dac",
   "metadata": {
    "editable": true,
    "slideshow": {
     "slide_type": ""
    },
    "tags": []
   },
   "source": [
    "### Alles Zusammen <a name=\"1,5\"></a>  \n",
    "[Hoch](#toc)"
   ]
  },
  {
   "cell_type": "markdown",
   "id": "976564f0-b1da-4e5f-abd7-45b0c7a0d109",
   "metadata": {
    "editable": true,
    "slideshow": {
     "slide_type": ""
    },
    "tags": []
   },
   "source": [
    "Um später nicht mit einer Handvoll verschiedener DataFrames arbeiten zu müssen, Kombiniere ich hier alle sozialen Daten in einen DataFrame und auch alle Daten insgesamt in den ```Wahldaten_2021``` DataFrame."
   ]
  },
  {
   "cell_type": "code",
   "execution_count": 46,
   "id": "b7612107-778a-4056-9129-b0dd6a4d424f",
   "metadata": {
    "editable": true,
    "slideshow": {
     "slide_type": ""
    },
    "tags": []
   },
   "outputs": [],
   "source": [
    "Stadtteile = pd.merge(cleaned_bevölkerung, cleaned_einkommen, on='region')\n",
    "Stadtteile = pd.merge(Stadtteile, cleaned_soziales, on='region')\n",
    "\n",
    "# sgbII tracks population. Creating a per capita figure.\n",
    "Stadtteile['sgbII_pro_kopf'] = Stadtteile['sgbII_leistungen_vor_wahl'] / Stadtteile['num_bevölkerung']\n",
    "\n",
    "\n",
    "Stadtteile = Stadtteile.set_index('region').apply(pd.to_numeric, errors='coerce')\n"
   ]
  },
  {
   "cell_type": "code",
   "execution_count": 47,
   "id": "44967987-0a99-4922-8456-ec7ee1c22c91",
   "metadata": {
    "editable": true,
    "slideshow": {
     "slide_type": ""
    },
    "tags": []
   },
   "outputs": [],
   "source": [
    "Wahldaten_2021 = pd.merge(Stadtteile, cleaned_wahl_2021, on='region')\n",
    "Wahldaten_2021 = Wahldaten_2021.set_index('region').apply(pd.to_numeric, errors='coerce')\n"
   ]
  },
  {
   "cell_type": "markdown",
   "id": "a3040a8b-9871-4ce8-a560-cc7e9648cabb",
   "metadata": {},
   "source": [
    "# Daten analysieren <a name=\"2\"></a>  \n",
    "[Hoch](#toc)"
   ]
  },
  {
   "cell_type": "markdown",
   "id": "931fa9dc-165d-4182-88c2-dfb4d068f218",
   "metadata": {},
   "source": [
    "Ich analysiere die Daten in aufsteigender Komplexität.  \n",
    "1. Der einfachste Schritt ist, sich erstmal Plots verschiedener Variablen gegeneinander und Korrelationen untereinander anzugucken. Das mache ich für die sozialen Daten (Bevölkerung, Sozialleistungen etc. statt Wahlergebnisse für die unterschiedlichen Parteien) und es stellt sich heraus, dass sie alle stark mit dem Erststimmenanteil der SPD korrelieren. Diese Korrelationen sind aufgrund der „ecological correlations“ – also Korrelationen zwischen Gruppendurchschnitten – tendenziell höher als in der Realität. Zudem korrelieren alle Variablen stark miteinander (Multikollinearität). Dies verringert die „Power“ einer normalen Regression, also die Wahrscheinlichkeit, signifikante Koeffizienten zu finden, und erschwert die Interpretation der Koeffizienten. Dies führt jedoch auf natürliche Weise zu den folgenden Schritten.\n",
    "\n",
    "2. Da alle sozialen Variablen in meinen Daten mehr oder weniger stark miteinander korrelieren, könnte man annehmen, dass sie alle von unterliegenden, latenten Faktoren beeinflusst werden. Klassische Beispiele für so einen Zusammenhang sind psychometrische Konstrukte wie IQ und die „Big Five:“ Alle kognitiv anspruchsvollen Aufgaben – Leseverständnis, Kopfrechnen, Matrizen vervollständigen, etc. – korrelieren miteinander, weshalb Psychologen davon ausgehen, dass es einen unterliegenden allgemeinen Faktor der Intelligenz gibt, der alle speziellen kognitiven Fähigkeiten beeinflusst. Zweitens werden Menschen, die als ordentlich bezeichnet werden, auch häufiger als hart arbeitend bezeichnet. Im Allgemeinen korrelieren Beschreibungen verschiedener Persönlichkeitsmerkmale untereinander, allerdings ist ein Modell mit fünf Faktoren besser als mit einem, im Unterschied zur Intelligenz.  \n",
    "&nbsp;&nbsp;&nbsp;&nbsp;Eine Faktorenanalyse der sozialen Variablen ergibt, dass es wahrscheinlich *einen* statt mehrere unterliegende Faktor gibt. Dieser Faktor erklärt etwa die Hälfte der Unterschiede in Erst- und Zweitstimmen unter den Stadtteilen für die SPD und AfD und wenigstens ein Viertel für die FDP und die Grünen, allerdings mit anderem Vorzeichen. Für eine nuanciertere Erklärung, was dieses Ergebnis bedeutet, s. u. unter „Faktorenanalyse.“\n",
    "\n",
    "3. Eine andere Herangehensweise ist, einfach die wichtigsten Variablen auszulesen („feature selection“). Da die Variablen stark korrelieren, geht kaum Information verloren, wenn nicht alle Variablen im Modell enthalten sind. Zur Auswahl der wichtigsten Variablen verwende ich die LASSO-Regression (Least Absolute Shrinkage and Selection Operator). Dieses Verfahren bestraft große Koeffizienten und setzt einige Koeffizienten auf genau Null. Nur die Variablen, die den größten Einfluss auf die abhängige Variable haben, bleiben im Modell.  \n",
    "Die Analyse zeigt, dass der Wettbewerb um Zweitstimmen wichtiger (oder zumindest intensiver) ist als der um Erststimmen – ausgenommen bei der Linken.  \n",
    "\n",
    "4. Als letztes benutze ich die stärksten *machine learning* Methoden neben Deep Learning: Random Forests und Boosting.  Diese Methoden liefern jedoch keine besseren Ergebnisse als einfache lineare Modelle bei diesen Daten; tatsächlich funktionieren sie *schlechter*. Dies deutet darauf hin, dass es keine komplizierten nicht-linearen Effekte oder Interaktionen zwischen den Variablen gibt."
   ]
  },
  {
   "cell_type": "markdown",
   "id": "eaca487d-385a-4156-8600-08497a575749",
   "metadata": {
    "editable": true,
    "slideshow": {
     "slide_type": ""
    },
    "tags": []
   },
   "source": [
    "## Einfache Korrelationen und Plots <a name=\"2,1\"></a>  \n",
    "[Hoch](#toc)"
   ]
  },
  {
   "cell_type": "markdown",
   "id": "1177c2ec-ec92-4998-86fb-eaa0fac4262f",
   "metadata": {},
   "source": [
    "Die nächsten drei Plots zeigen die Abhängigkeit des Erststimmenanteils der SPD in der Bundestagswahl 2021 im Lande Bremen von der Wahlbeteiligung, dem Anteil der ausländischen Bevölkerung und – offensichtlich nicht kausal – dem Zweitstimmenanteil.  \n",
    "<a name=\"Wahlbeteiligung1\"></a>"
   ]
  },
  {
   "cell_type": "code",
   "execution_count": 103,
   "id": "f27cb80f-799e-4f51-bef9-9060d45f3d62",
   "metadata": {
    "editable": true,
    "slideshow": {
     "slide_type": ""
    },
    "tags": []
   },
   "outputs": [],
   "source": [
    "daten = Wahldaten_2021.drop(['Häfen', 'Stadt Bremen'])\n"
   ]
  },
  {
   "cell_type": "code",
   "execution_count": 104,
   "id": "d07739bf-5e5b-433a-9b30-1a5d7b763f09",
   "metadata": {
    "editable": true,
    "slideshow": {
     "slide_type": ""
    },
    "tags": [
     "hide"
    ]
   },
   "outputs": [
    {
     "name": "stdout",
     "output_type": "stream",
     "text": [
      "Correlation: -0.905\n",
      "p-value: 0.000\n"
     ]
    },
    {
     "data": {
      "image/png": "[encoded data removed]",
      "text/plain": [
       "<Figure size 1000x600 with 1 Axes>"
      ]
     },
     "metadata": {},
     "output_type": "display_data"
    }
   ],
   "source": [
    "x1 = 'Wahlbeteiligung (%) 2021'\n",
    "y = 'SPD - Erststimmenanteil (%)  2021'\n",
    "correlation, p_value = pearsonr(daten[x1], daten[y])\n",
    "print(f'Correlation: {correlation:.3f}')\n",
    "print(f'p-value: {p_value:.3f}')\n",
    "\n",
    "plt.figure(figsize=(10, 6))\n",
    "plt.scatter(daten[x1], daten[y])\n",
    "\n",
    "regions = daten.index\n",
    "for i, region in enumerate(regions):\n",
    "    plt.text(daten[x1][i], daten[y][i], region, fontsize=8, ha='right')\n",
    "\n",
    "plt.ylim(0, daten[y].max() * 1.1)\n",
    "\n",
    "plt.xlabel(x1)\n",
    "plt.ylabel(y)\n",
    "\n",
    "\n",
    "plt.show()\n"
   ]
  },
  {
   "cell_type": "code",
   "execution_count": 105,
   "id": "6117957c-5119-41fb-a08b-c0c907f7a1ee",
   "metadata": {
    "editable": true,
    "slideshow": {
     "slide_type": ""
    },
    "tags": [
     "hide"
    ]
   },
   "outputs": [
    {
     "name": "stdout",
     "output_type": "stream",
     "text": [
      "Correlation: 0.695\n",
      "p-value: 0.001\n"
     ]
    },
    {
     "data": {
      "image/png": "[encoded data removed]",
      "text/plain": [
       "<Figure size 1000x600 with 1 Axes>"
      ]
     },
     "metadata": {},
     "output_type": "display_data"
    }
   ],
   "source": [
    "x2 = 'anteil_ausländer'\n",
    "y = 'SPD - Erststimmenanteil (%)  2021'\n",
    "correlation, p_value = pearsonr(daten[x2], daten[y])\n",
    "print(f'Correlation: {correlation:.3f}')\n",
    "print(f'p-value: {p_value:.3f}')\n",
    "\n",
    "plt.figure(figsize=(10, 6))\n",
    "plt.scatter(daten[x2], daten[y])\n",
    "\n",
    "regions = daten.index\n",
    "for i, region in enumerate(regions):\n",
    "    plt.text(daten[x2][i], daten[y][i], region, fontsize=8, ha='right')\n",
    "\n",
    "plt.ylim(0, daten[y].max() * 1.1)\n",
    "\n",
    "plt.xlabel(x2)\n",
    "plt.ylabel(y)\n",
    "\n",
    "\n",
    "plt.show()\n"
   ]
  },
  {
   "cell_type": "markdown",
   "id": "0a34f8e5-3c08-4d2a-91e5-40dffb68c334",
   "metadata": {},
   "source": [
    "<a name=\"Stimmensplitting\"></a>\n",
    "Der nächste Plot (unten) zeigt eine Korrelation, wie man sie aus physikalischen Experimenten statt sozialwissenschaftlichen Daten erwartet. Anscheinend machen die Bremer keinen Unterschied zwischen Erst- und Zweitstimme, wenn sie SPD-Wähler sind; es gibt kaum <u>Stimmensplitting</u>.  "
   ]
  },
  {
   "cell_type": "code",
   "execution_count": 106,
   "id": "e057031a-48ab-44b2-b62a-915975da0f24",
   "metadata": {
    "editable": true,
    "slideshow": {
     "slide_type": ""
    },
    "tags": [
     "hide"
    ]
   },
   "outputs": [
    {
     "name": "stdout",
     "output_type": "stream",
     "text": [
      "Correlation: 0.988\n",
      "p-value: 0.000\n"
     ]
    },
    {
     "data": {
      "image/png": "[encoded data removed]",
      "text/plain": [
       "<Figure size 1000x600 with 1 Axes>"
      ]
     },
     "metadata": {},
     "output_type": "display_data"
    }
   ],
   "source": [
    "x3 = 'SPD - Zweitstimmenanteil (%)  2021'\n",
    "y = 'SPD - Erststimmenanteil (%)  2021'\n",
    "correlation, p_value = pearsonr(daten[x3], daten[y])\n",
    "print(f'Correlation: {correlation:.3f}')\n",
    "print(f'p-value: {p_value:.3f}')\n",
    "\n",
    "plt.figure(figsize=(10, 6))\n",
    "plt.scatter(daten[x3], daten[y])\n",
    "\n",
    "regions = daten.index\n",
    "for i, region in enumerate(regions):\n",
    "    plt.text(daten[x3][i], daten[y][i], region, fontsize=8, ha='right')\n",
    "\n",
    "plt.ylim(0, daten[y].max() * 1.1)\n",
    "\n",
    "plt.xlabel(x3)\n",
    "plt.ylabel(y)\n",
    "\n",
    "\n",
    "plt.show()\n"
   ]
  },
  {
   "cell_type": "markdown",
   "id": "1ff616c4-0e3d-4a12-9bca-529dd318d27f",
   "metadata": {},
   "source": [
    "#### a) <u>P-Werte</u> <a name=\"P-Werte\"></a>\n",
    "Die Korrelationen und die zugehörigen P-Werte sind über den Plots angegeben. Der P-Wert zeigt, wie wahrscheinlich es ist, eine Korrelation zu erhalten, die mindestens so stark ist, obwohl tatsächlich kein Zusammenhang besteht – also wie wahrscheinlich es ist, dass die Zahl zufällig zustande kam.\n",
    "\n",
    "In diesem Fall kann ich den P-Wert berechnen, obwohl er hier eigentlich keine Bedeutung hat. Das liegt daran, dass ich nur deskriptive Statistiken der Gesamtbevölkerung anschaue. Es findet keine Inferenz von einer Stichprobe auf die Gesamtbevölkerung statt, die einen Signifikanztest erfordern würde. Beispielsweise braucht das Durchschnittseinkommen keinen P-Wert. Man kann es einfach berechnen. Wenn ich jedoch vom Durchschnitt einer Stichprobe auf den Durchschnitt der Gesamtbevölkerung schließen will, dann benötige ich einen P-Wert.\n",
    "\n",
    "P-Werte könnten sinnvoll werden, wenn man die Wahldaten von 2021 als Stichprobe aus einer „Superpopulation“ über die Jahre hinweg betrachtet. Beispielsweise könnten die Wahldaten von 2017, 2021 und 2025 als Stichproben aus dieser Superpopulation angesehen werden. Dieses Modell setzt jedoch voraus, dass der Prozess, der die Daten erzeugt, über die Zeit stabil bleibt. Das ist bei Wahlen offensichtlich nicht der Fall! Nicht dieselben Menschen mit denselben Präferenzen stimmen bei jeder Wahl ab. Wenn das der Fall wäre, wären selbst kleine Änderungen in der Stimmenverteilung unwahrscheinlich. Wähler ändern aber ihre Meinung, was bedeutet, dass selbst große Unterschiede in den Wahlergebnissen nicht ungewöhnlich sind.\n",
    "\n",
    "Im Folgenden tue ich aber normalerweise so, als handele es sich nicht um Daten der Gesamtbevölkerung, sondern um eine Stichprobe, um zu zeigen, wie ich in dieser (deutlich typischeren) Situation verfahren würde."
   ]
  },
  {
   "cell_type": "markdown",
   "id": "9d8aa37f-b91c-4543-9d5b-56bc7b0d653a",
   "metadata": {},
   "source": [
    "#### b) <u>Multiple Regression</u>  <a name=\"2,1,b\"></a>\n",
    "Eine einfache Regression zeigt den Zusammenhang zwischen zwei Variablen. Durch einen Plot mit Punkten wird eine Linie gelegt, die den kleinsten „durchschnittlichen“ vertikalen Abstand zu allen Punkten hat. Man kann nicht einfach den Durchschnitt der Abstände nehmen, da die Regression sonst immer eine horizontale Linie durch den Durchschnitt der abhängigen Variable (auf der y-Achse) ziehen würde – der durchschnittliche Abstand zum Durchschnitt ist nämlich immer Null. Stattdessen wird der Durchschnitt der quadrierten Abstände verwendet, also die „residual sum of squares“ (RSS).\n",
    "\n",
    "Eine multiple Regression funktioniert im Grunde genauso, aber in höheren Dimensionen. Bei zwei unabhängigen Variablen wird eine zweidimensionale Ebene gefunden, die die geringste RSS durch die Daten hat. Bei drei Variablen wird eine dreidimensionale Hyperebene gefunden, die die geringste RSS hat, und so weiter.\n",
    "\n",
    "Der Output der unteren Code-Zelle zeigt einige Ergebnisse einer multiplen Regression, bei der alle sozialen Variablen verwendet wurden, um den Erststimmenanteil der SPD vorherzusagen. Relevant ist der mittlere Block und die Zahl ganz oben rechts:\n",
    "\n",
    "* R-squared oder „variance explained“ misst, wie viel der Varianz in der abhängigen Variable (Erststimmenanteil) durch die Regression erklärt wird. In diesem Fall bleiben nur noch etwa 5% der ursprünglichen Varianz übrig! Solch hohe Werte sind in den Sozialwissenschaften extrem selten und deuten eher darauf hin, dass etwas nicht stimmt.\n",
    "\n",
    "* Der mittlere Block listet die Variablen auf. Zuerst „const“, der konstante Faktor in der linearen Gleichung – vergleichbar mit „a“ in y = a + bx –, dann „num_bevölkerung“ usw. In der Spalte „coef“ steht der Wert des Koeffizienten vor der Variable. Zum Beispiel hat die Arbeitslosenquote einen Koeffizienten von etwa 5,1. Das bedeutet, wenn wir alle anderen Variablen konstant halten und die Arbeitslosenquote um eine Einheit (hier einen Prozentpunkt) erhöhen, steigt der Erststimmenanteil der SPD im Durchschnitt um 5,1 Einheiten.\n",
    "\n",
    "* Die einzigen anderen wichtigen Zahlen finden sich in der vierten Spalte unter „P > |t|“. Diese P-Werte der Koeffizienten zeigen, wie wahrscheinlich es ist, einen mindestens so großen Koeffizienten zufällig zu erhalten, wenn es in Wirklichkeit keinen Zusammenhang gibt und der Koeffizient also Null ist. Beispielsweise hätte der Koeffizient der Variable „num_ausländer“ einen P-Wert von 0,425. Das bedeutet, dass es eine sehr hohe Wahrscheinlichkeit gibt, dass der Koeffizient tatsächlich Null ist. Die Signifikanzgrenze wird üblicherweise bei 0,05 gezogen. "
   ]
  },
  {
   "cell_type": "code",
   "execution_count": 107,
   "id": "3f890333-079d-4f77-a66a-532cd87ef718",
   "metadata": {},
   "outputs": [
    {
     "name": "stderr",
     "output_type": "stream",
     "text": [
      "/Users/maxopperman/anaconda3/lib/python3.11/site-packages/scipy/stats/_stats_py.py:1806: UserWarning: kurtosistest only valid for n>=20 ... continuing anyway, n=18\n",
      "  warnings.warn(\"kurtosistest only valid for n>=20 ... continuing \"\n"
     ]
    },
    {
     "data": {
      "text/html": [
       "<table class=\"simpletable\">\n",
       "<caption>OLS Regression Results</caption>\n",
       "<tr>\n",
       "  <th>Dep. Variable:</th>    <td>SPD - Erststimmenanteil (%)  2021</td> <th>  R-squared:         </th> <td>   0.952</td>\n",
       "</tr>\n",
       "<tr>\n",
       "  <th>Model:</th>                           <td>OLS</td>                <th>  Adj. R-squared:    </th> <td>   0.909</td>\n",
       "</tr>\n",
       "<tr>\n",
       "  <th>Method:</th>                     <td>Least Squares</td>           <th>  F-statistic:       </th> <td>   22.17</td>\n",
       "</tr>\n",
       "<tr>\n",
       "  <th>Date:</th>                     <td>Wed, 28 Aug 2024</td>          <th>  Prob (F-statistic):</th> <td>4.73e-05</td>\n",
       "</tr>\n",
       "<tr>\n",
       "  <th>Time:</th>                         <td>22:38:01</td>              <th>  Log-Likelihood:    </th> <td> -29.755</td>\n",
       "</tr>\n",
       "<tr>\n",
       "  <th>No. Observations:</th>              <td>    18</td>               <th>  AIC:               </th> <td>   77.51</td>\n",
       "</tr>\n",
       "<tr>\n",
       "  <th>Df Residuals:</th>                  <td>     9</td>               <th>  BIC:               </th> <td>   85.52</td>\n",
       "</tr>\n",
       "<tr>\n",
       "  <th>Df Model:</th>                      <td>     8</td>               <th>                     </th>     <td> </td>   \n",
       "</tr>\n",
       "<tr>\n",
       "  <th>Covariance Type:</th>              <td>nonrobust</td>             <th>                     </th>     <td> </td>   \n",
       "</tr>\n",
       "</table>\n",
       "<table class=\"simpletable\">\n",
       "<tr>\n",
       "               <td></td>                 <th>coef</th>     <th>std err</th>      <th>t</th>      <th>P>|t|</th>  <th>[0.025</th>    <th>0.975]</th>  \n",
       "</tr>\n",
       "<tr>\n",
       "  <th>const</th>                      <td>   89.2156</td> <td>   15.533</td> <td>    5.744</td> <td> 0.000</td> <td>   54.078</td> <td>  124.353</td>\n",
       "</tr>\n",
       "<tr>\n",
       "  <th>num_bevölkerung</th>            <td>   -0.0003</td> <td>    0.000</td> <td>   -1.564</td> <td> 0.152</td> <td>   -0.001</td> <td>    0.000</td>\n",
       "</tr>\n",
       "<tr>\n",
       "  <th>num_ausländer</th>              <td>    0.0035</td> <td>    0.004</td> <td>    0.836</td> <td> 0.425</td> <td>   -0.006</td> <td>    0.013</td>\n",
       "</tr>\n",
       "<tr>\n",
       "  <th>anteil_ausländer</th>           <td>  -49.9427</td> <td>  140.684</td> <td>   -0.355</td> <td> 0.731</td> <td> -368.192</td> <td>  268.307</td>\n",
       "</tr>\n",
       "<tr>\n",
       "  <th>anteil_erstes_quint</th>        <td> -124.7755</td> <td>   50.417</td> <td>   -2.475</td> <td> 0.035</td> <td> -238.827</td> <td>  -10.724</td>\n",
       "</tr>\n",
       "<tr>\n",
       "  <th>anteil_letztes_quint</th>       <td> -136.8041</td> <td>   23.779</td> <td>   -5.753</td> <td> 0.000</td> <td> -190.597</td> <td>  -83.011</td>\n",
       "</tr>\n",
       "<tr>\n",
       "  <th>arbeitslosenquote_vor_wahl</th> <td>    5.1415</td> <td>    0.779</td> <td>    6.597</td> <td> 0.000</td> <td>    3.378</td> <td>    6.905</td>\n",
       "</tr>\n",
       "<tr>\n",
       "  <th>sgbII_leistungen_vor_wahl</th>  <td>-7.761e-06</td> <td> 8.83e-06</td> <td>   -0.879</td> <td> 0.402</td> <td>-2.77e-05</td> <td> 1.22e-05</td>\n",
       "</tr>\n",
       "<tr>\n",
       "  <th>sgbII_pro_kopf</th>             <td>   -0.6149</td> <td>    0.313</td> <td>   -1.965</td> <td> 0.081</td> <td>   -1.323</td> <td>    0.093</td>\n",
       "</tr>\n",
       "</table>\n",
       "<table class=\"simpletable\">\n",
       "<tr>\n",
       "  <th>Omnibus:</th>       <td> 2.325</td> <th>  Durbin-Watson:     </th> <td>   1.767</td>\n",
       "</tr>\n",
       "<tr>\n",
       "  <th>Prob(Omnibus):</th> <td> 0.313</td> <th>  Jarque-Bera (JB):  </th> <td>   0.701</td>\n",
       "</tr>\n",
       "<tr>\n",
       "  <th>Skew:</th>          <td>-0.246</td> <th>  Prob(JB):          </th> <td>   0.704</td>\n",
       "</tr>\n",
       "<tr>\n",
       "  <th>Kurtosis:</th>      <td> 3.832</td> <th>  Cond. No.          </th> <td>9.57e+08</td>\n",
       "</tr>\n",
       "</table><br/><br/>Notes:<br/>[1] Standard Errors assume that the covariance matrix of the errors is correctly specified.<br/>[2] The condition number is large, 9.57e+08. This might indicate that there are<br/>strong multicollinearity or other numerical problems."
      ],
      "text/latex": [
       "\\begin{center}\n",
       "\\begin{tabular}{lclc}\n",
       "\\toprule\n",
       "\\textbf{Dep. Variable:}               & SPD - Erststimmenanteil (\\%)  2021 & \\textbf{  R-squared:         } &     0.952   \\\\\n",
       "\\textbf{Model:}                       &                OLS                 & \\textbf{  Adj. R-squared:    } &     0.909   \\\\\n",
       "\\textbf{Method:}                      &           Least Squares            & \\textbf{  F-statistic:       } &     22.17   \\\\\n",
       "\\textbf{Date:}                        &          Wed, 28 Aug 2024          & \\textbf{  Prob (F-statistic):} &  4.73e-05   \\\\\n",
       "\\textbf{Time:}                        &              22:38:01              & \\textbf{  Log-Likelihood:    } &   -29.755   \\\\\n",
       "\\textbf{No. Observations:}            &                   18               & \\textbf{  AIC:               } &     77.51   \\\\\n",
       "\\textbf{Df Residuals:}                &                    9               & \\textbf{  BIC:               } &     85.52   \\\\\n",
       "\\textbf{Df Model:}                    &                    8               & \\textbf{                     } &             \\\\\n",
       "\\textbf{Covariance Type:}             &             nonrobust              & \\textbf{                     } &             \\\\\n",
       "\\bottomrule\n",
       "\\end{tabular}\n",
       "\\begin{tabular}{lcccccc}\n",
       "                                      & \\textbf{coef} & \\textbf{std err} & \\textbf{t} & \\textbf{P$> |$t$|$} & \\textbf{[0.025} & \\textbf{0.975]}  \\\\\n",
       "\\midrule\n",
       "\\textbf{const}                        &      89.2156  &       15.533     &     5.744  &         0.000        &       54.078    &      124.353     \\\\\n",
       "\\textbf{num\\_bevölkerung}             &      -0.0003  &        0.000     &    -1.564  &         0.152        &       -0.001    &        0.000     \\\\\n",
       "\\textbf{num\\_ausländer}               &       0.0035  &        0.004     &     0.836  &         0.425        &       -0.006    &        0.013     \\\\\n",
       "\\textbf{anteil\\_ausländer}            &     -49.9427  &      140.684     &    -0.355  &         0.731        &     -368.192    &      268.307     \\\\\n",
       "\\textbf{anteil\\_erstes\\_quint}        &    -124.7755  &       50.417     &    -2.475  &         0.035        &     -238.827    &      -10.724     \\\\\n",
       "\\textbf{anteil\\_letztes\\_quint}       &    -136.8041  &       23.779     &    -5.753  &         0.000        &     -190.597    &      -83.011     \\\\\n",
       "\\textbf{arbeitslosenquote\\_vor\\_wahl} &       5.1415  &        0.779     &     6.597  &         0.000        &        3.378    &        6.905     \\\\\n",
       "\\textbf{sgbII\\_leistungen\\_vor\\_wahl} &   -7.761e-06  &     8.83e-06     &    -0.879  &         0.402        &    -2.77e-05    &     1.22e-05     \\\\\n",
       "\\textbf{sgbII\\_pro\\_kopf}             &      -0.6149  &        0.313     &    -1.965  &         0.081        &       -1.323    &        0.093     \\\\\n",
       "\\bottomrule\n",
       "\\end{tabular}\n",
       "\\begin{tabular}{lclc}\n",
       "\\textbf{Omnibus:}       &  2.325 & \\textbf{  Durbin-Watson:     } &    1.767  \\\\\n",
       "\\textbf{Prob(Omnibus):} &  0.313 & \\textbf{  Jarque-Bera (JB):  } &    0.701  \\\\\n",
       "\\textbf{Skew:}          & -0.246 & \\textbf{  Prob(JB):          } &    0.704  \\\\\n",
       "\\textbf{Kurtosis:}      &  3.832 & \\textbf{  Cond. No.          } & 9.57e+08  \\\\\n",
       "\\bottomrule\n",
       "\\end{tabular}\n",
       "%\\caption{OLS Regression Results}\n",
       "\\end{center}\n",
       "\n",
       "Notes: \\newline\n",
       " [1] Standard Errors assume that the covariance matrix of the errors is correctly specified. \\newline\n",
       " [2] The condition number is large, 9.57e+08. This might indicate that there are \\newline\n",
       " strong multicollinearity or other numerical problems."
      ],
      "text/plain": [
       "<class 'statsmodels.iolib.summary.Summary'>\n",
       "\"\"\"\n",
       "                                    OLS Regression Results                                   \n",
       "=============================================================================================\n",
       "Dep. Variable:     SPD - Erststimmenanteil (%)  2021   R-squared:                       0.952\n",
       "Model:                                           OLS   Adj. R-squared:                  0.909\n",
       "Method:                                Least Squares   F-statistic:                     22.17\n",
       "Date:                               Wed, 28 Aug 2024   Prob (F-statistic):           4.73e-05\n",
       "Time:                                       22:38:01   Log-Likelihood:                -29.755\n",
       "No. Observations:                                 18   AIC:                             77.51\n",
       "Df Residuals:                                      9   BIC:                             85.52\n",
       "Df Model:                                          8                                         \n",
       "Covariance Type:                           nonrobust                                         \n",
       "==============================================================================================\n",
       "                                 coef    std err          t      P>|t|      [0.025      0.975]\n",
       "----------------------------------------------------------------------------------------------\n",
       "const                         89.2156     15.533      5.744      0.000      54.078     124.353\n",
       "num_bevölkerung               -0.0003      0.000     -1.564      0.152      -0.001       0.000\n",
       "num_ausländer                  0.0035      0.004      0.836      0.425      -0.006       0.013\n",
       "anteil_ausländer             -49.9427    140.684     -0.355      0.731    -368.192     268.307\n",
       "anteil_erstes_quint         -124.7755     50.417     -2.475      0.035    -238.827     -10.724\n",
       "anteil_letztes_quint        -136.8041     23.779     -5.753      0.000    -190.597     -83.011\n",
       "arbeitslosenquote_vor_wahl     5.1415      0.779      6.597      0.000       3.378       6.905\n",
       "sgbII_leistungen_vor_wahl  -7.761e-06   8.83e-06     -0.879      0.402   -2.77e-05    1.22e-05\n",
       "sgbII_pro_kopf                -0.6149      0.313     -1.965      0.081      -1.323       0.093\n",
       "==============================================================================\n",
       "Omnibus:                        2.325   Durbin-Watson:                   1.767\n",
       "Prob(Omnibus):                  0.313   Jarque-Bera (JB):                0.701\n",
       "Skew:                          -0.246   Prob(JB):                        0.704\n",
       "Kurtosis:                       3.832   Cond. No.                     9.57e+08\n",
       "==============================================================================\n",
       "\n",
       "Notes:\n",
       "[1] Standard Errors assume that the covariance matrix of the errors is correctly specified.\n",
       "[2] The condition number is large, 9.57e+08. This might indicate that there are\n",
       "strong multicollinearity or other numerical problems.\n",
       "\"\"\""
      ]
     },
     "execution_count": 107,
     "metadata": {},
     "output_type": "execute_result"
    }
   ],
   "source": [
    "model = sm.OLS(daten[y], sm.add_constant(Stadtteile.drop(['Häfen', 'Stadt Bremen']))).fit()\n",
    "model.summary()"
   ]
  },
  {
   "cell_type": "markdown",
   "id": "04883c33-6147-4b96-a93e-307473034b01",
   "metadata": {},
   "source": [
    "#### c) <u>Außreißer?</u>  <a name=\"2,1,c\"></a>\n",
    "Da es nur wenige Stadtteile gibt, warnt Python, dass der Test auf Kurtose nicht zuverlässig funktioniert (der Computer kann nicht überprüfen, ob die Fehler normalverteilt sind). Eine Alternative ist, einfach den Plot der Residuen zu betrachten – das sind die Abstände der Punkte von der Regressionslinie. Wenn diese Abstände nicht überall ungefähr gleich sind, deutet das auf Heteroskedastizität oder einen nicht-linearen Zusammenhang zwischen den unabhängigen und der abhängigen Variable hin. Der untenstehende Plot zeigt die „studentized residuals,“ da diese gleichzeitig Ausreißer anzeigen. Es gibt keine klaren Ausreißer, aber es könnte leichte Heteroskedastizität vorliegen; aufgrund der wenigen Punkte auf der linken Seite ist es schwer, das sicher zu beurteilen."
   ]
  },
  {
   "cell_type": "code",
   "execution_count": 108,
   "id": "7f30f5b2-29c6-4789-82b0-ef9975506b61",
   "metadata": {
    "editable": true,
    "slideshow": {
     "slide_type": ""
    },
    "tags": [
     "hide"
    ]
   },
   "outputs": [
    {
     "data": {
      "text/plain": [
       "<matplotlib.legend.Legend at 0x13d636650>"
      ]
     },
     "execution_count": 108,
     "metadata": {},
     "output_type": "execute_result"
    },
    {
     "data": {
      "image/png": "[encoded data removed]",
      "text/plain": [
       "<Figure size 400x400 with 1 Axes>"
      ]
     },
     "metadata": {},
     "output_type": "display_data"
    }
   ],
   "source": [
    "studentized_residuals = model.get_influence().resid_studentized_internal\n",
    "\n",
    "ax = subplots(figsize=(4, 4))[1]\n",
    "ax.scatter(model.fittedvalues, studentized_residuals, s=5)\n",
    "\n",
    "ax.scatter(model.fittedvalues[abs(studentized_residuals) > 3],\n",
    "           studentized_residuals[abs(studentized_residuals) > 3],\n",
    "           color='red', s=20, label='|Studentized Residual| > 3')\n",
    "\n",
    "ax.set_xlabel('Fitted value')\n",
    "ax.set_ylabel('Studentized Residual')\n",
    "ax.axhline(0, c='k', ls='--')\n",
    "ax.axhline(3, c='r')\n",
    "ax.axhline(-3, c='r')\n",
    "ax.legend(loc='upper left', bbox_to_anchor=(1, 1))"
   ]
  },
  {
   "cell_type": "markdown",
   "id": "622c8db2-0015-4e63-9203-fd6b039f59d0",
   "metadata": {},
   "source": [
    "#### d) <u>Variance Inflation Factor</u>  <a name=\"2,1,d\"></a>\n",
    "In der Zusammenfassung der Regression wird in der zweiten Fußnote erwähnt, dass möglicherweise Multikollinearität vorliegt – also dass die unabhängigen Variablen stark untereinander korrelieren könnten.\n",
    "\n",
    "Man kann die paarweisen Korrelationen aller Variablen in einer Matrix anzeigen lassen. Allerdings berücksichtigt diese Methode nicht den Fall, dass eine Variable $X$ zwar nicht stark mit den Variablen $A$, $B$ und $C$ korreliert, aber stark mit einer linearen Kombination dieser drei. Ein besseres Maß für diese Art der Multikollinearität ist der „Variance Inflation Factor“ (VIF). Er misst, wie stark jede einzelne Variable mit allen anderen Variablen gleichzeitig korreliert (anstatt nur paarweise Korrelationen zu betrachten).\n",
    "\n",
    "Der VIF kann nie unter 1 liegen. Ein Wert von 10 deutet auf starke Multikollinearität hin, während ein Wert von 5 eine konservativere Schwelle darstellt. Diese Nuancen sind jedoch für die vorliegenden Daten völlig irrelevant, da die VIF-Werte jeden Rahmen sprengen:"
   ]
  },
  {
   "cell_type": "code",
   "execution_count": 109,
   "id": "03dd3b17-020a-439d-9d68-37996d4e510e",
   "metadata": {
    "editable": true,
    "slideshow": {
     "slide_type": ""
    },
    "tags": [
     "hide"
    ]
   },
   "outputs": [
    {
     "data": {
      "text/html": [
       "<div>\n",
       "<style scoped>\n",
       "    .dataframe tbody tr th:only-of-type {\n",
       "        vertical-align: middle;\n",
       "    }\n",
       "\n",
       "    .dataframe tbody tr th {\n",
       "        vertical-align: top;\n",
       "    }\n",
       "\n",
       "    .dataframe thead th {\n",
       "        text-align: right;\n",
       "    }\n",
       "</style>\n",
       "<table border=\"1\" class=\"dataframe\">\n",
       "  <thead>\n",
       "    <tr style=\"text-align: right;\">\n",
       "      <th></th>\n",
       "      <th>vif</th>\n",
       "    </tr>\n",
       "  </thead>\n",
       "  <tbody>\n",
       "    <tr>\n",
       "      <th>num_bevölkerung</th>\n",
       "      <td>16.180746</td>\n",
       "    </tr>\n",
       "    <tr>\n",
       "      <th>num_ausländer</th>\n",
       "      <td>805.004535</td>\n",
       "    </tr>\n",
       "    <tr>\n",
       "      <th>anteil_ausländer</th>\n",
       "      <td>500.668897</td>\n",
       "    </tr>\n",
       "    <tr>\n",
       "      <th>anteil_erstes_quint</th>\n",
       "      <td>28.992074</td>\n",
       "    </tr>\n",
       "    <tr>\n",
       "      <th>anteil_letztes_quint</th>\n",
       "      <td>21.711894</td>\n",
       "    </tr>\n",
       "    <tr>\n",
       "      <th>arbeitslosenquote_vor_wahl</th>\n",
       "      <td>87.169231</td>\n",
       "    </tr>\n",
       "    <tr>\n",
       "      <th>sgbII_leistungen_vor_wahl</th>\n",
       "      <td>769.636647</td>\n",
       "    </tr>\n",
       "    <tr>\n",
       "      <th>sgbII_pro_kopf</th>\n",
       "      <td>656.263832</td>\n",
       "    </tr>\n",
       "  </tbody>\n",
       "</table>\n",
       "</div>"
      ],
      "text/plain": [
       "                                   vif\n",
       "num_bevölkerung              16.180746\n",
       "num_ausländer               805.004535\n",
       "anteil_ausländer            500.668897\n",
       "anteil_erstes_quint          28.992074\n",
       "anteil_letztes_quint         21.711894\n",
       "arbeitslosenquote_vor_wahl   87.169231\n",
       "sgbII_leistungen_vor_wahl   769.636647\n",
       "sgbII_pro_kopf              656.263832"
      ]
     },
     "execution_count": 109,
     "metadata": {},
     "output_type": "execute_result"
    }
   ],
   "source": [
    "X = sm.add_constant(Stadtteile.drop(['Häfen', 'Stadt Bremen']))\n",
    "\n",
    "vals = [VIF(X, i) for i in range(1, X.shape[1])]\n",
    "vif = pd.DataFrame({'vif':vals}, index=X.columns[1:])\n",
    "vif"
   ]
  },
  {
   "cell_type": "markdown",
   "id": "1bd934c1-321d-40f4-b7a7-5864d937fa77",
   "metadata": {},
   "source": [
    "Eine low-tech Herangehensweise wäre, einfach die Variablen mit dem höchsten VIF-Wert aus dem Modell zu nehmen, bis alle Werte unter 10 liegen. Da man den VIF des konstanten Faktors ignorieren kann, führt das zu diesem Modell:"
   ]
  },
  {
   "cell_type": "code",
   "execution_count": 110,
   "id": "9b63ff1d-79ce-4101-bf0b-c9249b81aed2",
   "metadata": {
    "editable": true,
    "slideshow": {
     "slide_type": ""
    },
    "tags": [
     "hide"
    ]
   },
   "outputs": [
    {
     "data": {
      "text/html": [
       "<div>\n",
       "<style scoped>\n",
       "    .dataframe tbody tr th:only-of-type {\n",
       "        vertical-align: middle;\n",
       "    }\n",
       "\n",
       "    .dataframe tbody tr th {\n",
       "        vertical-align: top;\n",
       "    }\n",
       "\n",
       "    .dataframe thead th {\n",
       "        text-align: right;\n",
       "    }\n",
       "</style>\n",
       "<table border=\"1\" class=\"dataframe\">\n",
       "  <thead>\n",
       "    <tr style=\"text-align: right;\">\n",
       "      <th></th>\n",
       "      <th>vif</th>\n",
       "    </tr>\n",
       "  </thead>\n",
       "  <tbody>\n",
       "    <tr>\n",
       "      <th>const</th>\n",
       "      <td>136.799558</td>\n",
       "    </tr>\n",
       "    <tr>\n",
       "      <th>num_bevölkerung</th>\n",
       "      <td>1.073771</td>\n",
       "    </tr>\n",
       "    <tr>\n",
       "      <th>anteil_ausländer</th>\n",
       "      <td>7.907788</td>\n",
       "    </tr>\n",
       "    <tr>\n",
       "      <th>anteil_letztes_quint</th>\n",
       "      <td>4.104336</td>\n",
       "    </tr>\n",
       "    <tr>\n",
       "      <th>arbeitslosenquote_vor_wahl</th>\n",
       "      <td>7.711057</td>\n",
       "    </tr>\n",
       "  </tbody>\n",
       "</table>\n",
       "</div>"
      ],
      "text/plain": [
       "                                   vif\n",
       "const                       136.799558\n",
       "num_bevölkerung               1.073771\n",
       "anteil_ausländer              7.907788\n",
       "anteil_letztes_quint          4.104336\n",
       "arbeitslosenquote_vor_wahl    7.711057"
      ]
     },
     "execution_count": 110,
     "metadata": {},
     "output_type": "execute_result"
    }
   ],
   "source": [
    "X_reduced = X.drop(['num_ausländer', 'sgbII_pro_kopf', 'sgbII_leistungen_vor_wahl', 'anteil_erstes_quint'], axis=1)\n",
    "\n",
    "vals = [VIF(X_reduced, i) for i in range(X_reduced.shape[1])]\n",
    "vif = pd.DataFrame({'vif':vals}, index=X_reduced.columns)\n",
    "vif"
   ]
  },
  {
   "cell_type": "markdown",
   "id": "1b4b9e2f-6c91-438a-8afe-5b5dee7d4e11",
   "metadata": {},
   "source": [
    "Wenn es sich um eine Stichprobe handelte, stünde aber noch nicht fest, dass alle diese Variablen auch statistisch signifikant sind. Das tue ich im nächsten Schritt."
   ]
  },
  {
   "cell_type": "markdown",
   "id": "72d04461-cb69-4234-8d3f-34fdc086dbac",
   "metadata": {},
   "source": [
    "#### e) <u>ANOVA</u> <a name=\"2,1,e\"></a>  \n",
    "ANOVA steht für „Analysis of Variance“. Eine Anwendung von ANOVA ist es, alle Variablen eines Modells einem Hypothesentest zu unterziehen. Dabei wird überprüft, ob eine bestimmte Variable, wie zum Beispiel „anteil_ausländer“, signifikant ist. ANOVA vergleicht dazu den F-Wert des Modells mit der Variable und des Modells ohne diese Variable. Wenn die Erhöhung des F-Werts relativ zur Varianz der Residuen groß ist, deutet das darauf hin, dass die Variable signifikant ist.\n",
    "\n",
    "Einfach gesagt: Wenn der P-Wert in der letzten Spalte in der nächsten Tabelle kleiner als 0,05 ist, ist die Variable wahrscheinlich nicht irrelevant."
   ]
  },
  {
   "cell_type": "code",
   "execution_count": 111,
   "id": "d5e496d8-baa0-4a26-a0ac-ef62714dfe9d",
   "metadata": {
    "editable": true,
    "slideshow": {
     "slide_type": ""
    },
    "tags": [
     "hide"
    ]
   },
   "outputs": [
    {
     "data": {
      "text/html": [
       "<div>\n",
       "<style scoped>\n",
       "    .dataframe tbody tr th:only-of-type {\n",
       "        vertical-align: middle;\n",
       "    }\n",
       "\n",
       "    .dataframe tbody tr th {\n",
       "        vertical-align: top;\n",
       "    }\n",
       "\n",
       "    .dataframe thead th {\n",
       "        text-align: right;\n",
       "    }\n",
       "</style>\n",
       "<table border=\"1\" class=\"dataframe\">\n",
       "  <thead>\n",
       "    <tr style=\"text-align: right;\">\n",
       "      <th></th>\n",
       "      <th>df</th>\n",
       "      <th>sum_sq</th>\n",
       "      <th>mean_sq</th>\n",
       "      <th>F</th>\n",
       "      <th>PR(&gt;F)</th>\n",
       "    </tr>\n",
       "  </thead>\n",
       "  <tbody>\n",
       "    <tr>\n",
       "      <th>const</th>\n",
       "      <td>1.0</td>\n",
       "      <td>61.101088</td>\n",
       "      <td>61.101088</td>\n",
       "      <td>5.427964</td>\n",
       "      <td>0.036577</td>\n",
       "    </tr>\n",
       "    <tr>\n",
       "      <th>num_bevölkerung</th>\n",
       "      <td>1.0</td>\n",
       "      <td>17.529440</td>\n",
       "      <td>17.529440</td>\n",
       "      <td>1.557242</td>\n",
       "      <td>0.234080</td>\n",
       "    </tr>\n",
       "    <tr>\n",
       "      <th>anteil_ausländer</th>\n",
       "      <td>1.0</td>\n",
       "      <td>319.492236</td>\n",
       "      <td>319.492236</td>\n",
       "      <td>28.382346</td>\n",
       "      <td>0.000137</td>\n",
       "    </tr>\n",
       "    <tr>\n",
       "      <th>anteil_letztes_quint</th>\n",
       "      <td>1.0</td>\n",
       "      <td>70.650607</td>\n",
       "      <td>70.650607</td>\n",
       "      <td>6.276303</td>\n",
       "      <td>0.026327</td>\n",
       "    </tr>\n",
       "    <tr>\n",
       "      <th>arbeitslosenquote_vor_wahl</th>\n",
       "      <td>1.0</td>\n",
       "      <td>20.909779</td>\n",
       "      <td>20.909779</td>\n",
       "      <td>1.857537</td>\n",
       "      <td>0.196052</td>\n",
       "    </tr>\n",
       "    <tr>\n",
       "      <th>Residual</th>\n",
       "      <td>13.0</td>\n",
       "      <td>146.337411</td>\n",
       "      <td>11.256724</td>\n",
       "      <td>NaN</td>\n",
       "      <td>NaN</td>\n",
       "    </tr>\n",
       "  </tbody>\n",
       "</table>\n",
       "</div>"
      ],
      "text/plain": [
       "                              df      sum_sq     mean_sq          F    PR(>F)\n",
       "const                        1.0   61.101088   61.101088   5.427964  0.036577\n",
       "num_bevölkerung              1.0   17.529440   17.529440   1.557242  0.234080\n",
       "anteil_ausländer             1.0  319.492236  319.492236  28.382346  0.000137\n",
       "anteil_letztes_quint         1.0   70.650607   70.650607   6.276303  0.026327\n",
       "arbeitslosenquote_vor_wahl   1.0   20.909779   20.909779   1.857537  0.196052\n",
       "Residual                    13.0  146.337411   11.256724        NaN       NaN"
      ]
     },
     "execution_count": 111,
     "metadata": {},
     "output_type": "execute_result"
    }
   ],
   "source": [
    "# Renaming the first so that smf.ols does not complain.  \n",
    "# Renaming the second for convenience later on.\n",
    "\n",
    "daten_ = daten.copy()\n",
    "daten_.rename(columns={'SPD - Erststimmenanteil (%)  2021': 'SPD_erststimmen_2021', \n",
    "                       'Wahlbeteiligung (%) 2021': 'wahlbeteiligung_2021'}, inplace=True)\n",
    "\n",
    "formula = ' + '.join(X_reduced.columns)\n",
    "model_test = smf.ols(f'SPD_erststimmen_2021 ~ {formula}', data=sm.add_constant(daten_)).fit()\n",
    "\n",
    "anova_lm(model_test)"
   ]
  },
  {
   "cell_type": "markdown",
   "id": "a9a219b1-6eb6-44d5-9df1-bf79b96ac470",
   "metadata": {},
   "source": [
    "Es bleibt also nur der konstante Term, „anteil_ausländer“ und „anteil_letztes_quint;“ die letzte Variable bezieht sich auf das Fünftel mit dem *höchsten* Einkommen.  \n",
    "Nun kann ich also eine Regression mit diesem kleineren Modell errechnen:"
   ]
  },
  {
   "cell_type": "code",
   "execution_count": 116,
   "id": "2ef4773d-0580-4b95-aef3-83b053c4abe3",
   "metadata": {
    "editable": true,
    "slideshow": {
     "slide_type": ""
    },
    "tags": [
     "hide"
    ]
   },
   "outputs": [
    {
     "name": "stdout",
     "output_type": "stream",
     "text": [
      "                             OLS Regression Results                             \n",
      "================================================================================\n",
      "Dep. Variable:     SPD_erststimmen_2021   R-squared:                       0.686\n",
      "Model:                              OLS   Adj. R-squared:                  0.644\n",
      "Method:                   Least Squares   F-statistic:                     16.38\n",
      "Date:                  Wed, 28 Aug 2024   Prob (F-statistic):           0.000169\n",
      "Time:                          22:40:47   Log-Likelihood:                -46.606\n",
      "No. Observations:                    18   AIC:                             99.21\n",
      "Df Residuals:                        15   BIC:                             101.9\n",
      "Df Model:                             2                                         \n",
      "Covariance Type:              nonrobust                                         \n",
      "========================================================================================\n",
      "                           coef    std err          t      P>|t|      [0.025      0.975]\n",
      "----------------------------------------------------------------------------------------\n",
      "Intercept               46.8742      8.532      5.494      0.000      28.690      65.059\n",
      "anteil_ausländer        -3.1939     23.710     -0.135      0.895     -53.730      47.342\n",
      "anteil_letztes_quint   -59.8935     19.244     -3.112      0.007    -100.912     -18.875\n",
      "==============================================================================\n",
      "Omnibus:                        2.487   Durbin-Watson:                   1.612\n",
      "Prob(Omnibus):                  0.288   Jarque-Bera (JB):                1.337\n",
      "Skew:                          -0.666   Prob(JB):                        0.512\n",
      "Kurtosis:                       3.099   Cond. No.                         38.4\n",
      "==============================================================================\n",
      "\n",
      "Notes:\n",
      "[1] Standard Errors assume that the covariance matrix of the errors is correctly specified.\n"
     ]
    },
    {
     "name": "stderr",
     "output_type": "stream",
     "text": [
      "/Users/maxopperman/anaconda3/lib/python3.11/site-packages/scipy/stats/_stats_py.py:1806: UserWarning: kurtosistest only valid for n>=20 ... continuing anyway, n=18\n",
      "  warnings.warn(\"kurtosistest only valid for n>=20 ... continuing \"\n"
     ]
    }
   ],
   "source": [
    "# Fit the model without insignificant predictors\n",
    "formula_reduced = 'SPD_erststimmen_2021 ~ anteil_ausländer + anteil_letztes_quint'\n",
    "model_reduced = smf.ols(formula_reduced, data=daten_).fit()\n",
    "print(model_reduced.summary())\n"
   ]
  },
  {
   "cell_type": "markdown",
   "id": "6dd13033-426d-4df5-af98-4d97376935e1",
   "metadata": {},
   "source": [
    "Leider ist der P-Wert für „anteil_ausländer“ extrem hoch (0,895). Wenn ich jedoch ANOVA auf das kleinere Modell anwende (siehe Zelle direkt unten), stellen sich beide Variablen als signifikant heraus.\n",
    "\n",
    "Das könnte darauf hindeuten, dass immer noch Multikollinearität im Modell vorhanden ist. Diese kann die Standardfehler erhöhen und die statistische „Power“ reduzieren. Aber wenn ich die Variance Inflation Factors (siehe Zelle einen weiter unten) neu berechne, sind sie nicht besonders hoch. Es scheint, dass diese weniger präzise Methode, signifikante Zusammenhänge per Hand zu finden, nicht weiterhilft. Daher werde ich andere Methoden zur Analyse verwenden müssen."
   ]
  },
  {
   "cell_type": "code",
   "execution_count": 117,
   "id": "6f950329-95ed-4cf8-870a-61c5f95913b1",
   "metadata": {},
   "outputs": [
    {
     "name": "stdout",
     "output_type": "stream",
     "text": [
      "ANOVA results:\n",
      "anteil_ausländer        0.000232\n",
      "anteil_letztes_quint    0.007136\n",
      "Residual                     NaN\n",
      "Name: PR(>F), dtype: float64\n"
     ]
    }
   ],
   "source": [
    "print('ANOVA results:')\n",
    "print(anova_lm(model_reduced)['PR(>F)'])"
   ]
  },
  {
   "cell_type": "code",
   "execution_count": 115,
   "id": "a4d31e37-3472-4a16-9f32-786832c7f831",
   "metadata": {},
   "outputs": [
    {
     "name": "stdout",
     "output_type": "stream",
     "text": [
      "                             vif\n",
      "const                 136.799558\n",
      "anteil_ausländer        1.073771\n",
      "anteil_letztes_quint    7.907788\n",
      "sgbII_pro_kopf          4.104336\n"
     ]
    }
   ],
   "source": [
    "# VIF without insignificant predictors\n",
    "X_reduced_more = X.drop(['num_ausländer', 'sgbII_leistungen_vor_wahl', 'anteil_erstes_quint', 'arbeitslosenquote_vor_wahl', 'num_bevölkerung'], axis=1)\n",
    "\n",
    "vals = [VIF(X_reduced, i) for i in range(X_reduced_more.shape[1])]\n",
    "vif = pd.DataFrame({'vif':vals}, index=X_reduced_more.columns)\n",
    "print(vif)"
   ]
  },
  {
   "cell_type": "markdown",
   "id": "2a5ab7c2-be52-4612-8186-1ae012868239",
   "metadata": {
    "editable": true,
    "slideshow": {
     "slide_type": ""
    },
    "tags": []
   },
   "source": [
    "## Faktorenanalyse <a name=\"2,2\"></a>  \n",
    "[Hoch](#toc)"
   ]
  },
  {
   "cell_type": "markdown",
   "id": "80b29ad5-e7ec-4d34-b37c-54f8626aa99e",
   "metadata": {},
   "source": [
    "Da die einfacheren Analysemethoden nur begrenzte Erkenntnisse geliefert haben, verwende ich nun zwei moderat komplexere Methoden.\n",
    "&nbsp;&nbsp;&nbsp;&nbsp;Die Faktorenanalyse zielt darauf ab, latente Faktoren zu identifizieren, die alle anderen Variablen beeinflussen. Daher ist es sinnvoll, zunächst intuitiv darüber nachzudenken, was dieser latente Faktor bedeuten könnte. Die Variablen sind:  \n",
    "1. Anteil Ausländer.  \n",
    "2. Anteil im ärmsten Fünftel.  \n",
    "3. Arbeitslosenquote.  \n",
    "4. Wahlbeteiligung.  \n",
    "5. SGB-II Leistungen pro Kopf.  \n",
    "6. SGB-II Leistungen insgesamt.  \n",
    "7. Anzahl Ausländer insgesamt.  \n",
    "8. Anzahl Bevölkerung insgesamt.  \n",
    "9. Anteil im reichsten Fünftel.\n",
    "\n",
    "Die drei „insgesamt“-Variablen messen vor allem die Bevölkerungsanzahl. Es gibt keinen analytischen Grund anzunehmen, dass die Anzahl der Menschen in einem Stadtteil unabhängig von der Bevölkerungsdichte einen Einfluss auf das Wahlergebnis haben sollte. Wenn zwei identische Stadtteile zusammengelegt würden, würde die Bevölkerungszahl steigen, aber wir würden keine Veränderung im Wahlverhalten erwarten.  \n",
    "&nbsp;&nbsp;&nbsp;&nbsp;Es bleiben also die anteilsmäßigen Variablen. Jedoch scheint mir intuitiv der Anteil im reichsten Fünftel qualitativ anders zu sein als die ersten fünf Variablen (es wird sich tatsächlich gleich herausstellen, dass diese fünf Variablen die beste Kombination sind).  \n",
    "&nbsp;&nbsp;&nbsp;&nbsp;Was verbindet diese Variablen? Vielleicht ein Konzept wie „Sozialschwäche“ oder eine „prekäre Lage“. Der genaue Name des Faktors ist für die Analyse nicht entscheidend, aber es scheint, als ob es einen zugrunde liegenden Faktor geben könnte. \n",
    "\n"
   ]
  },
  {
   "cell_type": "markdown",
   "id": "92301b80-adaa-4ae5-9fce-40905fb622f5",
   "metadata": {},
   "source": [
    "#### a) <u>Sind die Daten für Faktorenanalyse geeignet?</u> <a name=\"2,2,a\"></a>\n",
    "\n",
    "Man sollte sich nicht nur auf Spekulationen und Eindrücke verlassen. Daher überprüfe ich als nächstes, ob die Daten tatsächlich für eine Faktorenanalyse geeignet sind."
   ]
  },
  {
   "cell_type": "code",
   "execution_count": 128,
   "id": "01bb258f-a32a-47e2-9267-5294f049ce6f",
   "metadata": {
    "editable": true,
    "slideshow": {
     "slide_type": ""
    },
    "tags": [
     "hide"
    ]
   },
   "outputs": [
    {
     "name": "stdout",
     "output_type": "stream",
     "text": [
      "KMO Test:  0.872\n",
      "Bartlett’s test:  1.4428985414960861e-24\n",
      "\n",
      "Benutzte Variablen:\n",
      "anteil_ausländer, anteil_erstes_quint, arbeitslosenquote_vor_wahl, sgbII_pro_kopf, wahlbeteiligung_2021\n"
     ]
    }
   ],
   "source": [
    "# Checking whether the data are even suitable for factor analysis\n",
    "\n",
    "X_clean = pd.merge(X.drop(columns=['const', \n",
    "                                   'anteil_letztes_quint', \n",
    "                                   'num_ausländer', \n",
    "                                   'sgbII_leistungen_vor_wahl', \n",
    "                                   'num_bevölkerung']), \n",
    "                   daten_['wahlbeteiligung_2021'] , \n",
    "                   on='region')\n",
    "\n",
    "kmo_all, kmo_model = calculate_kmo(X_clean)\n",
    "print('KMO Test: ', round(kmo_model, 3))\n",
    "\n",
    "bartlett_test = calculate_bartlett_sphericity(X_clean)\n",
    "print('Bartlett’s test: ', bartlett_test[1])\n",
    "print()\n",
    "print('Benutzte Variablen:')\n",
    "print(', '.join(X_clean.columns))"
   ]
  },
  {
   "cell_type": "markdown",
   "id": "859603dc-9d0a-4c46-8de7-41a1b04936d2",
   "metadata": {},
   "source": [
    "Das *Kaiser-Meyer-Olkin* Kriterium misst den Anteil der Varianz, die durch gemeinsame Faktoren erklärt werden kann. Wenn zwei Variablen zwar miteinander korrelieren, aber nicht mit anderen Variablen, wird dies vom KMO-Kriterium nicht berücksichtigt. Die Annahme ist ja gerade, dass es gemeinsame Faktoren gibt, die alle Variablen beeinflussen. Wenn also nicht alle Variablen miteinander korrelieren, deutet das darauf hin, dass solche gemeinsamen Faktoren möglicherweise nicht existieren.  \n",
    "&nbsp;&nbsp;&nbsp;&nbsp;KMO produziert Werte in $[0,1]$ und sollte nahe bei 1 liegen. Ein Wert unter 0,8 wird als mittelmäßig angesehen, und ein Wert unter 0,6 spricht gegen die Durchführung einer Faktorenanalyse. \n",
    "&nbsp;&nbsp;&nbsp;&nbsp;*Bartletts* Test produziert u. a. einen P-Wert, der nahe bei Null liegen sollte. Das Ergebnis des Tests hier hat 23 Nachkommastellen vor der ersten Eins. Die Notation „`e-24`“ entspricht $\\times 10^{-24}$.  \n",
    "\n",
    "Diese Auswahl der Variablen basiert auf einem trial-and-error-Verfahren, geleitet von der Überlegung oben, wie der latente Faktor aussehen könnte. Keine andere Kombination liefert einen höheren KMO-Wert."
   ]
  },
  {
   "cell_type": "markdown",
   "id": "2ba3906c-e1e4-4696-b1ee-9a30dcd4255d",
   "metadata": {},
   "source": [
    "#### b) <u>Wie viele Faktoren?</u> <a name=\"2,2,b\"></a>\n",
    "\n",
    "Eine etwas analytischere Methode, um zu entscheiden, wie viele Faktoren es gibt, ist es, den sogenannten „Scree“-Plot anzugucken:"
   ]
  },
  {
   "cell_type": "code",
   "execution_count": 903,
   "id": "2e6d6e24-b03c-424f-8ed8-daadb7e1a004",
   "metadata": {
    "editable": true,
    "slideshow": {
     "slide_type": ""
    },
    "tags": [
     "hide"
    ]
   },
   "outputs": [
    {
     "data": {
      "image/png": "[encoded data removed]",
      "text/plain": [
       "<Figure size 600x500 with 1 Axes>"
      ]
     },
     "metadata": {},
     "output_type": "display_data"
    }
   ],
   "source": [
    "# Performing Factor Analysis\n",
    "fa = FactorAnalyzer()\n",
    "fa.fit(X_clean)\n",
    "\n",
    "ev, v = fa.get_eigenvalues()\n",
    "\n",
    "# Scree Plot\n",
    "plt.figure(figsize=(6, 5))\n",
    "plt.plot(ev, 'o-')\n",
    "plt.xlabel('Anzahl der Faktoren')\n",
    "plt.ylabel('Eigenwert')\n",
    "plt.title('Scree Plot (Faktorenanalyse)')\n",
    "\n",
    "variables = '\\n'.join([\n",
    "    r'$\\bf{Variablen\\ (alles\\ pro\\ Stadtteil)\\ }$',\n",
    "    '',\n",
    "    '1.) Ausländer als Anteil der Bevölkerung.',\n",
    "    '2.) Anteil Bevölkerung im untersten Einkommensquintil.',\n",
    "    '3.) Arbeitslosenquote im Jahr vor der Wahl.',\n",
    "    '4.) SGB II Leistungen pro Kopf.',\n",
    "    '5.) Wahlbeteiligung 2021.',\n",
    "])\n",
    "\n",
    "plt.figtext(0.5, -0.1, variables, ha=\"center\", fontsize=10, bbox={\"facecolor\":\"lightgrey\", \"alpha\":0.5, \"pad\":5})\n",
    "plt.subplots_adjust(bottom=0.25)\n",
    "\n",
    "plt.show()\n"
   ]
  },
  {
   "cell_type": "markdown",
   "id": "3e96098e-65cf-4762-8958-aa95c045009a",
   "metadata": {},
   "source": [
    "Man schaut, wo der „Ellenbogen“ im Graph ist, also der Punkt, nach dem der Plot flach wird.<sup>†</sup> Die y-Achse mag etwas kryptisch wirken, sie misst prinzipiell, wie viel der Varianz erklärt wird. Anscheinend erklärt der erste Faktor fast die gesamte Varianz!  \n",
    "Wie viel er genau erklärt, wird in der nächsten Zelle ausgerechnet:\n",
    "\n",
    "<br>\n",
    "<hr style=\"width: 10%; text-align: left; margin-left: 0;\">\n",
    "<small><sup>†</sup>Wenn ich an dieser Stelle einen Scree-Plot mit allen sozialen Variablen produziere, sieht man einen starken ersten Faktor und einen deutlich schwächeren zweiten. Der zweite Faktor fängt die drei „insgesamt“ Variablen ein, die die Gesamtbevölkerung beschreiben.</small>"
   ]
  },
  {
   "cell_type": "code",
   "execution_count": 814,
   "id": "d00d7687-ba6b-4c5b-b6f1-43c70d0fe15d",
   "metadata": {
    "editable": true,
    "slideshow": {
     "slide_type": ""
    },
    "tags": [
     "hide"
    ]
   },
   "outputs": [
    {
     "name": "stdout",
     "output_type": "stream",
     "text": [
      "Factor Loadings:\n",
      " [[-0.95876235]\n",
      " [-0.94796932]\n",
      " [-0.9794939 ]\n",
      " [-0.98996176]\n",
      " [ 0.88025438]]\n",
      "Explained Variance:  [0.90643029]\n"
     ]
    },
    {
     "name": "stderr",
     "output_type": "stream",
     "text": [
      "/Users/maxopperman/anaconda3/lib/python3.11/site-packages/factor_analyzer/factor_analyzer.py:663: UserWarning: No rotation will be performed when the number of factors equals 1.\n",
      "  warnings.warn(\n"
     ]
    }
   ],
   "source": [
    "# Choose the number of factors based on the scree plot\n",
    "num_factors = 1\n",
    "\n",
    "fa_ = FactorAnalyzer(n_factors=num_factors)\n",
    "fa_.fit(X_clean)\n",
    "\n",
    "# Loadings and variance\n",
    "factor_loadings = fa_.loadings_\n",
    "print('Factor Loadings:\\n', factor_loadings)\n",
    "\n",
    "explained_variance = fa_.get_factor_variance()[1]\n",
    "print(\"Explained Variance: \", explained_variance)\n"
   ]
  },
  {
   "cell_type": "markdown",
   "id": "5253fdf2-7494-4cd7-a24b-42519b81c107",
   "metadata": {},
   "source": [
    "Die „Factor Loadings“ zeigen, wie stark die einzelnen Variablen mit dem ersten Faktor korrelieren. Die Wahlbeteiligung, die letzte Variable, hat als einzige eine positive Korrelation, was intuitiv Sinn ergibt: *Mehr* SGB-II Leistungen pro Kopf bedeuten eine prekärere Lage aber dasselbe gilt für *weniger* Wahlbeteiligung. Das Vorzeichen muss wechseln.  \n",
    "&nbsp;&nbsp;&nbsp;&nbsp;Die „Explained Variance“ ist genau das, was der Name sagt. Anscheinend erklärt der erste Faktor 91% der Varianz in den fünf Variablen.\n",
    " "
   ]
  },
  {
   "cell_type": "markdown",
   "id": "4d6494df-63fe-41ca-a0ad-35950cfc72f9",
   "metadata": {},
   "source": [
    "#### c) <u>Regression mit Factor Scores</u> <a name=\"2,2,c\"></a>\n",
    "\n",
    "Die fünf Variablen sind aber unsere unabhängigen Variablen und wir wollen ja die abhängige Variable, den Erststimmenanteil der SPD, erklären. Dafür sind die „Factor Scores“ nützlich. Sie zeigen für jeden Stadtteil an, wie stark der latente Faktor, also die Sozialschwäche oder Prekarität, zum Ausdruck kommt. Mit diesen Scores kann man dann wieder eine einfache Regression errechnen:"
   ]
  },
  {
   "cell_type": "code",
   "execution_count": 847,
   "id": "69356447-eee0-4eeb-883f-c57867c122a6",
   "metadata": {
    "editable": true,
    "slideshow": {
     "slide_type": ""
    },
    "tags": [
     "hide"
    ]
   },
   "outputs": [
    {
     "name": "stdout",
     "output_type": "stream",
     "text": [
      "                             OLS Regression Results                             \n",
      "================================================================================\n",
      "Dep. Variable:     SPD_erststimmen_2021   R-squared:                       0.602\n",
      "Model:                              OLS   Adj. R-squared:                  0.577\n",
      "Method:                   Least Squares   F-statistic:                     24.20\n",
      "Date:                  Sat, 24 Aug 2024   Prob (F-statistic):           0.000154\n",
      "Time:                          18:00:40   Log-Likelihood:                -48.738\n",
      "No. Observations:                    18   AIC:                             101.5\n",
      "Df Residuals:                        16   BIC:                             103.3\n",
      "Df Model:                             1                                         \n",
      "Covariance Type:              nonrobust                                         \n",
      "================================================================================\n",
      "                   coef    std err          t      P>|t|      [0.025      0.975]\n",
      "--------------------------------------------------------------------------------\n",
      "const           32.7353      0.907     36.090      0.000      30.812      34.658\n",
      "Factor Score    -4.4871      0.912     -4.919      0.000      -6.421      -2.553\n",
      "==============================================================================\n",
      "Omnibus:                        2.571   Durbin-Watson:                   1.679\n",
      "Prob(Omnibus):                  0.277   Jarque-Bera (JB):                1.045\n",
      "Skew:                          -0.540   Prob(JB):                        0.593\n",
      "Kurtosis:                       3.475   Cond. No.                         1.01\n",
      "==============================================================================\n",
      "\n",
      "Notes:\n",
      "[1] Standard Errors assume that the covariance matrix of the errors is correctly specified.\n"
     ]
    },
    {
     "name": "stderr",
     "output_type": "stream",
     "text": [
      "/Users/maxopperman/anaconda3/lib/python3.11/site-packages/scipy/stats/_stats_py.py:1806: UserWarning: kurtosistest only valid for n>=20 ... continuing anyway, n=18\n",
      "  warnings.warn(\"kurtosistest only valid for n>=20 ... continuing \"\n"
     ]
    }
   ],
   "source": [
    "# Getting the factor scores\n",
    "factor_scores = fa_.transform(X_clean)\n",
    "X_factor = pd.DataFrame({'Factor Score':factor_scores.flatten()}, index=X_clean.index) \n",
    "\n",
    "# Fitting the regression model\n",
    "X_factor = sm.add_constant(X_factor)\n",
    "y_factor = daten_['SPD_erststimmen_2021']\n",
    "model_factor = sm.OLS(y_factor, X_factor).fit()\n",
    "\n",
    "print(model_factor.summary())"
   ]
  },
  {
   "cell_type": "markdown",
   "id": "16859ed9-2a6b-4eb4-bafd-c7bd4d39e0b4",
   "metadata": {},
   "source": [
    "Der $R^2$-Wert ganz rechts oben zeigt an, dass der Faktor etwa 60% der Varianz in den Erststimmenanteilen der SPD zwischen den Stadtteilen erklärt. Die P-Werte sind bedeutungslos, aber wenn es sich um eine Stichprobe handelte, wäre der Effekt des Faktors hochsignifikant, da $p < 0.0005$. \n",
    "\n",
    "#### d) <u>Signifikanz</u> <a name=\"Signifikanz\"></a>\n",
    "„Signifikanz“ bedeutet in diesem und allen anderen Zusammenhängen nie, dass ein Koeffizient oder ein Unterschied praktisch relevant oder bedeutend ist. Signifikanz bezieht sich stets nur auf die Wahrscheinlichkeit, dass der Wert eines Koeffizienten per Zufall Zustande gekommen wäre, wenn es eigentlich keinen Zusammenhang gibt. Ein „hochsignifikanter“ Wert bedeutet lediglich, dass es eine sehr geringe Wahrscheinlichkeit gibt, diesen extremen Wert zu erhalten, obwohl in Wirklichkeit kein Zusammenhang besteht.  \n",
    "&nbsp;&nbsp;&nbsp;&nbsp;Zum Beispiel könnte ein Unterschied von 0,004 Punkten im Notendurchschnitt von Abiturienten zwischen Männern und Frauen (z. B. 2,1 und 2,104) in einer Stichprobe, die nur *groß genug* ist, hochsignifikant sein, auch wenn der Unterschied praktisch irrelevant ist. Wenn es diesen Unterschied im Durchschnitt *aller* Abiture statt nur in einer Stichprobe gibt, ist das Konzept von „Signifikanz“ nicht anwendbar, da keine Unsicherheit in unseren Daten ist."
   ]
  },
  {
   "cell_type": "markdown",
   "id": "66738e0e-ef53-4099-9475-a13bcb3bdc77",
   "metadata": {},
   "source": [
    "#### e) <u>Auswertung</u> <a name=\"2,2,e\"></a>  \n",
    "Obwohl das Modell auf den Erststimmen trainiert wurde, zeigt der Plot unten, dass seine Leistung beim Vorhersagen des Zweitstimmenanteils nicht viel schlechter ist. Die Daten liefern jedoch keine klare Antwort darauf, in welche Richtung die Kausalität geht:\n",
    "\n",
    "* Beeinflusst der Faktor „Sozialschwäche“ das politische Verhalten von SPD-Wählern so stark, dass es kaum einen Unterschied zwischen Erst- und Zweitstimmen gibt?\n",
    "* Oder gibt es aus anderen Gründen kein Stimmensplitting, sodass der Faktor zufällig beide Stimmenanteile erklärt?\n",
    "Die Tabellen unter dem Plot zeigen, wie viel des Unterschieds in den Stimmenanteilen zwischen den Stadtteilen für verschiedene Parteien durch den Faktor „Sozialschwäche“ erklärt wird. Die relevante Zeile ist jeweils die letzte, die „R^2“ heißt.\n",
    "\n",
    "Etwa 60% der Unterschiede bei SPD- und AfD-Erststimmen werden durch diesen Faktor erklärt, während es etwa ein Viertel für die Grünen und FDP ist – allerdings mit entgegengesetztem Vorzeichen. Das Vorzeichen kann man dem $R^2$ nicht ansehen, aber zwei Zeilen darüber findet man die Korrelation, die auch negativ sein kann. In sozial schwächeren Stadtteilen sind die Stimmenanteile für SPD und AfD höher, während sie für FDP und Grüne niedriger sind.  \n",
    "&nbsp;&nbsp;&nbsp;&nbsp;Das bedeutet jedoch nicht unbedingt, dass SPD- und AfD-Wähler sich ähneln oder gegeneinander ausgetauscht werden können. Wir analysieren die Stadtteile, in denen sie leben. Es könnte sein, dass es zwei Typen von Wählern gibt, die unterschiedlich auf soziale Prekarität reagieren oder diese verursachen. SPD- und AfD-Wähler könnten sich beide von sozialer Schwäche angezogen fühlen oder gemeinsam auf ähnliche Weise soziale Probleme in ihren Stadtteilen hervorrufen.  \n",
    "&nbsp;&nbsp;&nbsp;&nbsp;Dass bei der Linken kein starker Zusammenhang zwischen dem Faktor und ihren Stimmen zu erkennen ist, könnte auf zwei entgegengesetzte Tendenzen hinweisen: Menschen in sehr prekären und sehr wohlhabenden Stadtteilen wählen sie möglicherweise, während der Effekt bei anderen Parteien homogener ist.\n",
    "\n",
    "Diese Korrelationen zeigen jedoch nicht, wie intensiv der Wettkampf um Stimmen zwischen den Parteien ist. Wenn SPD- und AfD-Wähler sich tatsächlich nicht direkt substituieren lassen, bedeutet eine Stimme mehr für die AfD nicht zwangsläufig eine Stimme weniger für die SPD. Auch wenn Grüne und SPD-Wähler unterschiedlich auf soziale Schwäche reagieren, könnte in jedem einzelnen Stadtteil eine Stimme mehr für die Grünen trotzdem eine Stimme weniger für die SPD bedeuten.\n",
    "\n",
    "Diese Frage werde ich im nächsten Teil weiter untersuchen."
   ]
  },
  {
   "cell_type": "code",
   "execution_count": 904,
   "id": "d97cb465-4c52-4a4d-b0e6-bb6c44ad0b46",
   "metadata": {
    "editable": true,
    "slideshow": {
     "slide_type": ""
    },
    "tags": [
     "hide"
    ]
   },
   "outputs": [
    {
     "data": {
      "image/png": "[encoded data removed]",
      "text/plain": [
       "<Figure size 600x600 with 1 Axes>"
      ]
     },
     "metadata": {},
     "output_type": "display_data"
    }
   ],
   "source": [
    "plt.figure(figsize=(6, 6))\n",
    "plt.scatter(X_factor['Factor Score'], y_factor, label='Erstimmenanteil', color='blue')\n",
    "plt.scatter(X_factor['Factor Score'], daten['SPD - Zweitstimmenanteil (%)  2021'], marker='^', label='Zweitstimmenanteil', color='darkorange')\n",
    "\n",
    "plt.xlabel('Prekäre Lage (negativ = prekärer)')\n",
    "plt.ylabel('SPD Stimmenanteil')\n",
    "\n",
    "plt.legend(loc='best')\n",
    "\n",
    "\n",
    "regions = X_factor.index\n",
    "for i, region in enumerate(regions):\n",
    "    plt.text(X_factor['Factor Score'][i], y_factor[i], region, fontsize=8, ha='right')\n",
    "\n",
    "plt.show()\n"
   ]
  },
  {
   "cell_type": "code",
   "execution_count": 854,
   "id": "14c940c5-a004-4bb0-af52-bce3e9ff9d0c",
   "metadata": {
    "editable": true,
    "slideshow": {
     "slide_type": ""
    },
    "tags": [
     "hide"
    ]
   },
   "outputs": [],
   "source": [
    "parties = ['SPD', 'CDU', 'GRÜNE', 'DIE LINKE', 'FDP', 'AfD']\n",
    "result_types = ['Coefficient', 'Correlation', 'P-Value', 'R^2']\n",
    "\n",
    "Parteien_factor_erststimmen = pd.DataFrame(index=result_types)\n",
    "Parteien_factor_zweitstimmen = pd.DataFrame(index=result_types)\n",
    "\n",
    "for ordinal in ['Erst', 'Zweit']:\n",
    "    for party in parties:\n",
    "        y_party = daten[f'{party} - {ordinal}stimmenanteil (%)  2021']\n",
    "        model_party = sm.OLS(y_party, X_factor).fit()\n",
    "        \n",
    "        coefficient_party = model_party.params['Factor Score']\n",
    "        p_value_party = model_party.pvalues['Factor Score']\n",
    "        correlation_party, _ = pearsonr(X_factor['Factor Score'], y_party)\n",
    "        rsquared = correlation_party ** 2\n",
    "\n",
    "        if ordinal == 'Erst':\n",
    "            Parteien_factor_erststimmen[party] = [\n",
    "                coefficient_party,\n",
    "                correlation_party,\n",
    "                p_value_party,\n",
    "                rsquared]\n",
    "        else:\n",
    "            Parteien_factor_zweitstimmen[party] = [\n",
    "                coefficient_party,\n",
    "                correlation_party,\n",
    "                p_value_party,\n",
    "                rsquared]\n",
    "\n",
    "Parteien_factor_erststimmen = Parteien_factor_erststimmen.round(3)\n",
    "Parteien_factor_zweitstimmen = Parteien_factor_zweitstimmen.round(3)"
   ]
  },
  {
   "cell_type": "code",
   "execution_count": 855,
   "id": "eb136f34-9d9b-45bf-b5ae-038e3dff307b",
   "metadata": {},
   "outputs": [
    {
     "data": {
      "text/html": [
       "<div>\n",
       "<style scoped>\n",
       "    .dataframe tbody tr th:only-of-type {\n",
       "        vertical-align: middle;\n",
       "    }\n",
       "\n",
       "    .dataframe tbody tr th {\n",
       "        vertical-align: top;\n",
       "    }\n",
       "\n",
       "    .dataframe thead th {\n",
       "        text-align: right;\n",
       "    }\n",
       "</style>\n",
       "<table border=\"1\" class=\"dataframe\">\n",
       "  <thead>\n",
       "    <tr style=\"text-align: right;\">\n",
       "      <th></th>\n",
       "      <th>SPD</th>\n",
       "      <th>CDU</th>\n",
       "      <th>GRÜNE</th>\n",
       "      <th>DIE LINKE</th>\n",
       "      <th>FDP</th>\n",
       "      <th>AfD</th>\n",
       "    </tr>\n",
       "  </thead>\n",
       "  <tbody>\n",
       "    <tr>\n",
       "      <th>Coefficient</th>\n",
       "      <td>-4.487</td>\n",
       "      <td>2.717</td>\n",
       "      <td>4.187</td>\n",
       "      <td>-0.427</td>\n",
       "      <td>0.958</td>\n",
       "      <td>-2.539</td>\n",
       "    </tr>\n",
       "    <tr>\n",
       "      <th>Correlation</th>\n",
       "      <td>-0.776</td>\n",
       "      <td>0.390</td>\n",
       "      <td>0.518</td>\n",
       "      <td>-0.107</td>\n",
       "      <td>0.512</td>\n",
       "      <td>-0.753</td>\n",
       "    </tr>\n",
       "    <tr>\n",
       "      <th>P-Value</th>\n",
       "      <td>0.000</td>\n",
       "      <td>0.110</td>\n",
       "      <td>0.028</td>\n",
       "      <td>0.672</td>\n",
       "      <td>0.030</td>\n",
       "      <td>0.000</td>\n",
       "    </tr>\n",
       "    <tr>\n",
       "      <th>R^2</th>\n",
       "      <td>0.602</td>\n",
       "      <td>0.152</td>\n",
       "      <td>0.268</td>\n",
       "      <td>0.011</td>\n",
       "      <td>0.262</td>\n",
       "      <td>0.568</td>\n",
       "    </tr>\n",
       "  </tbody>\n",
       "</table>\n",
       "</div>"
      ],
      "text/plain": [
       "               SPD    CDU  GRÜNE  DIE LINKE    FDP    AfD\n",
       "Coefficient -4.487  2.717  4.187     -0.427  0.958 -2.539\n",
       "Correlation -0.776  0.390  0.518     -0.107  0.512 -0.753\n",
       "P-Value      0.000  0.110  0.028      0.672  0.030  0.000\n",
       "R^2          0.602  0.152  0.268      0.011  0.262  0.568"
      ]
     },
     "execution_count": 855,
     "metadata": {},
     "output_type": "execute_result"
    }
   ],
   "source": [
    "Parteien_factor_erststimmen"
   ]
  },
  {
   "cell_type": "code",
   "execution_count": 856,
   "id": "4a3d7e2a-c6c8-4360-b3af-2c5126da029d",
   "metadata": {},
   "outputs": [
    {
     "data": {
      "text/html": [
       "<div>\n",
       "<style scoped>\n",
       "    .dataframe tbody tr th:only-of-type {\n",
       "        vertical-align: middle;\n",
       "    }\n",
       "\n",
       "    .dataframe tbody tr th {\n",
       "        vertical-align: top;\n",
       "    }\n",
       "\n",
       "    .dataframe thead th {\n",
       "        text-align: right;\n",
       "    }\n",
       "</style>\n",
       "<table border=\"1\" class=\"dataframe\">\n",
       "  <thead>\n",
       "    <tr style=\"text-align: right;\">\n",
       "      <th></th>\n",
       "      <th>SPD</th>\n",
       "      <th>CDU</th>\n",
       "      <th>GRÜNE</th>\n",
       "      <th>DIE LINKE</th>\n",
       "      <th>FDP</th>\n",
       "      <th>AfD</th>\n",
       "    </tr>\n",
       "  </thead>\n",
       "  <tbody>\n",
       "    <tr>\n",
       "      <th>Coefficient</th>\n",
       "      <td>-4.235</td>\n",
       "      <td>2.032</td>\n",
       "      <td>4.464</td>\n",
       "      <td>-0.123</td>\n",
       "      <td>1.481</td>\n",
       "      <td>-2.381</td>\n",
       "    </tr>\n",
       "    <tr>\n",
       "      <th>Correlation</th>\n",
       "      <td>-0.701</td>\n",
       "      <td>0.346</td>\n",
       "      <td>0.497</td>\n",
       "      <td>-0.032</td>\n",
       "      <td>0.578</td>\n",
       "      <td>-0.732</td>\n",
       "    </tr>\n",
       "    <tr>\n",
       "      <th>P-Value</th>\n",
       "      <td>0.001</td>\n",
       "      <td>0.159</td>\n",
       "      <td>0.036</td>\n",
       "      <td>0.900</td>\n",
       "      <td>0.012</td>\n",
       "      <td>0.001</td>\n",
       "    </tr>\n",
       "    <tr>\n",
       "      <th>R^2</th>\n",
       "      <td>0.491</td>\n",
       "      <td>0.120</td>\n",
       "      <td>0.247</td>\n",
       "      <td>0.001</td>\n",
       "      <td>0.334</td>\n",
       "      <td>0.535</td>\n",
       "    </tr>\n",
       "  </tbody>\n",
       "</table>\n",
       "</div>"
      ],
      "text/plain": [
       "               SPD    CDU  GRÜNE  DIE LINKE    FDP    AfD\n",
       "Coefficient -4.235  2.032  4.464     -0.123  1.481 -2.381\n",
       "Correlation -0.701  0.346  0.497     -0.032  0.578 -0.732\n",
       "P-Value      0.001  0.159  0.036      0.900  0.012  0.001\n",
       "R^2          0.491  0.120  0.247      0.001  0.334  0.535"
      ]
     },
     "execution_count": 856,
     "metadata": {},
     "output_type": "execute_result"
    }
   ],
   "source": [
    "Parteien_factor_zweitstimmen"
   ]
  },
  {
   "cell_type": "markdown",
   "id": "e9a3639c-e3dc-4c36-8587-275dfc6e73bc",
   "metadata": {
    "editable": true,
    "slideshow": {
     "slide_type": ""
    },
    "tags": []
   },
   "source": [
    "## LASSO und Validierung <a name=\"2,3\"></a>  \n",
    "[Hoch](#toc)"
   ]
  },
  {
   "cell_type": "markdown",
   "id": "dfcac18a-50f8-4941-9954-ab904c364820",
   "metadata": {},
   "source": [
    "Der Unterschied zwischen LASSO (Least Absolute Shrinkage and Selection Operator) und einer normalen Regression liegt in der Art und Weise, wie die Koeffizienten behandelt werden. Formal minimiert LASSO folgenden Ausdruck:\n",
    "$$\n",
    "\\text{RSS} + \\lambda\\sum^p_{j=1}\\lvert \\beta_j \\rvert\n",
    "$$\n",
    "„RSS“ ist immer noch die „residual sum of squares,“ die den Abstand aller Punkte von der Regressionslinie misst. Die $\\beta_j$ sind die Koeffizienten, von denen es so viele gibt, wie unsere Tabelle Spalten hat. Eine „Tabelle“ in der Statistik heißt eigentlich Designmatrix, und wenn man die im Allgemeinen behandelt, sagt man normalerweise es sei eine $n\\times p$ Matrix, also eine Matrix mit $n$ Zeilen und $p$ Spalten. Daher kommt das $p$ auf dem Summenzeichen.    \n",
    "&nbsp;&nbsp;&nbsp;&nbsp;Eine normale Regression minimiert einfach die RSS. Aber LASSO fügt dem noch die Gesamtgröße der Koeffizienten hinzu; je mehr Koeffizienten es gibt und je größer sie sind, desto kleiner müsste die RSS sein, um das auszugleichen. Der Faktor $\\lambda$ kontrolliert, wie stark das Modell für viele und große Koeffizienten bestraft wird (im Englischen tatsächlich „penalty term“).  \n",
    "&nbsp;&nbsp;&nbsp;&nbsp;Ein letztes Detail ist, dass der absolute Betrag der Koeffizienten in die Summe kommt. Man könnte auch die quadrierten Koeffizienten nehmen, dann wäre es eine Ridge-Regression, aber mit dem absoluten Betrag bekommt LASSO einige Koeffizienten auf genau Null, statt nur sehr klein. Deshalb ist LASSO in der Lage, die wichtigsten variablen auszusuchen, während z. B. Ridge fast immer alle Variablen im Modell lässt. LASSO funktioniert daher am besten, wenn tatsächlich nur eine Handvoll Variablen wichtig sind.\n"
   ]
  },
  {
   "cell_type": "markdown",
   "id": "18249258-3a65-4c21-bff9-c4d1c0fb8752",
   "metadata": {},
   "source": [
    "#### a) <u>Das LASSO-Modell anpassen</u> <a name=\"2,3,a\"></a>  \n",
    "Als nächstes passe ich eine LASSO-Regression auf die gesamten Daten an: Die sozialen Daten und auch die Stimmenergebnisse der verschiedenen Parteien und deren Veränderung von 2017 auf 2021.\n",
    "\n",
    "<br>\n",
    "\n",
    "<small>Zwei technische Besonderheiten; kann ohne Verständnisverlust übersprungen werden:  \n",
    "&nbsp;&nbsp;&nbsp;&nbsp;Da für LASSO die Größe der Koeffizienten eine Rolle spielt, sollten die Daten normalisiert werden. Wenn ich militärische Macht mit einer Regression messen wollte und Anzahl der Soldaten und Militärausgaben in Euro als Variablen hätte, würde die erste Variable Zahlen von mehreren Hunderttausend annehmen aber die zweite von mehreren Milliarden. Normaler Regression ist das egal aber LASSO könnte die Ausgaben unterbewerten. Nach einer Normalisierung werden alle Variablen in Standardabweichungen von ihrem Mittelwert gemessen.  \n",
    "&nbsp;&nbsp;&nbsp;&nbsp;Zweitens ist das $\\lambda$ ein Hyperparameter, der getunt werden muss. LASSO weiß nicht automatisch, was der beste $\\lambda$-Wert ist. Das passiert hier dadurch, dass ich den `LassoCV`-*estimator* aus `scikit-learn` benutze statt des normalen `Lasso`. „CV“ steht für „*cross validation*,“ eine äußerst clevere und simple Methode, um ohne einen extra Datensatz zum Testen des Modells auszukommen: Die Daten werden in z. B. Fünftel geteilt, und dann werden immer vier Teile benutzt, um das Modell zu trainieren, und der fünfte, um das Modell zu testen. Das macht man mit allen fünf Teilen und nimmt den Durchschnitt der Ergebnisse.</small>"
   ]
  },
  {
   "cell_type": "code",
   "execution_count": 135,
   "id": "1410837c-26bd-426e-8af9-04d7626b3834",
   "metadata": {},
   "outputs": [],
   "source": [
    "daten.columns\n",
    "daten_lasso = daten.drop(columns=['SPD - Erststimmenanteil (%)  2021', \n",
    "                                  'SPD - Erststimmenanteil: Veränderung 2021-2017', \n",
    "                                  'SPD - Zweitstimmenanteil (%)  2021', \n",
    "                                  'SPD - Zweitstimmenanteil: Veränderung 2021-2017'])\n",
    "y_lasso = daten['SPD - Erststimmenanteil (%)  2021']"
   ]
  },
  {
   "cell_type": "code",
   "execution_count": 136,
   "id": "1e261656-8ad1-4468-b194-cae2f9554c57",
   "metadata": {
    "editable": true,
    "slideshow": {
     "slide_type": ""
    },
    "tags": [
     "hide"
    ]
   },
   "outputs": [
    {
     "name": "stdout",
     "output_type": "stream",
     "text": [
      "Root Mean Squared Error: 0.777\n"
     ]
    }
   ],
   "source": [
    "# Pipeline for LASSO\n",
    "lasso_cv = LassoCV(cv=5, max_iter=10000)\n",
    "pipeline = Pipeline([\n",
    "    ('scaler', StandardScaler()),\n",
    "    ('lasso_cv', lasso_cv)\n",
    "])\n",
    "\n",
    "# Fit the model\n",
    "pipeline.fit(daten_lasso, y_lasso)\n",
    "\n",
    "# Get the best alpha (penalty term) and the corresponding model\n",
    "best_alpha = pipeline.named_steps['lasso_cv'].alpha_\n",
    "best_model = pipeline.named_steps['lasso_cv']\n",
    "\n",
    "# Uncomment as necessary. Cluttering up my analysis right now.\n",
    "'''\n",
    "print(f\"Best alpha (penalty term): {best_alpha}\")\n",
    "print(\"Coefficients:\", best_model.coef_)\n",
    "'''\n",
    "\n",
    "# If you want to evaluate the performance:\n",
    "y_pred = pipeline.predict(daten_lasso)\n",
    "rmse = np.sqrt(mean_squared_error(y_lasso, y_pred))\n",
    "print(f\"Root Mean Squared Error: {rmse:.3f}\")\n"
   ]
  },
  {
   "cell_type": "markdown",
   "id": "772bd61a-c6fe-4eb1-969a-b4373face016",
   "metadata": {},
   "source": [
    "Der \"Root Mean Square Error\" (RMSE) zeigt, wie gut das LASSO-Modell die Erststimmenanteile vorhersagt. Der RMSE von 0,777 bedeutet also, dass das Modell im Durchschnitt etwa 0,777 Prozentpunkte vom tatsächlichen Wert der Erststimmenanteile in den Stadtteilen abweicht. Das Modell trifft die Realität also ziemlich genau!  \n",
    "&nbsp;&nbsp;&nbsp;&nbsp;Nun ist es Zeit, die tatsächlichen Koeffizienten anzusehen. Im Gegensatz zur normalen Regression haben die Koeffizienten bei LASSO keine direkte Bedeutung, da alle Variablen normalisiert wurden. Ihre relative Größe gibt jedoch an, welche Variablen am wichtigsten sind, und das Vorzeichen zeigt an, ob eine höhere Ausprägung der Variablen mit mehr oder weniger Stimmen verbunden ist:"
   ]
  },
  {
   "cell_type": "code",
   "execution_count": 137,
   "id": "3a7e437a-9e41-4327-8637-0859fc97f1fc",
   "metadata": {
    "editable": true,
    "slideshow": {
     "slide_type": ""
    },
    "tags": [
     "hide"
    ]
   },
   "outputs": [
    {
     "name": "stdout",
     "output_type": "stream",
     "text": [
      "                                             Variable  Coefficient\n",
      "0                                     num_bevölkerung     0.264051\n",
      "1                                       num_ausländer     0.000000\n",
      "2                                    anteil_ausländer     0.076958\n",
      "3                                 anteil_erstes_quint     0.491252\n",
      "4                                anteil_letztes_quint    -0.849459\n",
      "5                          arbeitslosenquote_vor_wahl     0.000000\n",
      "6                           sgbII_leistungen_vor_wahl    -0.000000\n",
      "7                                      sgbII_pro_kopf    -0.000000\n",
      "8                            Wahlbeteiligung (%) 2021    -0.000000\n",
      "9              Wahlbeteiligung: Veränderung 2021-2017    -0.983569\n",
      "10                  CDU - Erststimmenanteil (%)  2021    -0.000000\n",
      "11     CDU - Erststimmenanteil: Veränderung 2021-2017    -0.000000\n",
      "12            DIE LINKE - Erststimmenanteil (%)  2021    -1.200486\n",
      "13  DIE LINKE - Erststimmenanteil: Veränderung 202...     0.776733\n",
      "14                GRÜNE - Erststimmenanteil (%)  2021    -0.000000\n",
      "15   GRÜNE - Erststimmenanteil: Veränderung 2021-2017    -0.000000\n",
      "16                  AfD - Erststimmenanteil (%)  2021     0.000000\n",
      "17     AfD - Erststimmenanteil: Veränderung 2021-2017    -0.000000\n",
      "18                  FDP - Erststimmenanteil (%)  2021    -0.000000\n",
      "19     FDP - Erststimmenanteil: Veränderung 2021-2017    -0.000000\n",
      "20                 CDU - Zweitstimmenanteil (%)  2021    -0.000000\n",
      "21    CDU - Zweitstimmenanteil: Veränderung 2021-2017    -0.000000\n",
      "22           DIE LINKE - Zweitstimmenanteil (%)  2021    -0.000000\n",
      "23  DIE LINKE - Zweitstimmenanteil: Veränderung 20...     0.000000\n",
      "24               GRÜNE - Zweitstimmenanteil (%)  2021    -1.316454\n",
      "25  GRÜNE - Zweitstimmenanteil: Veränderung 2021-2017    -0.000000\n",
      "26                 AfD - Zweitstimmenanteil (%)  2021     0.000000\n",
      "27    AfD - Zweitstimmenanteil: Veränderung 2021-2017    -1.080452\n",
      "28                 FDP - Zweitstimmenanteil (%)  2021    -2.491543\n",
      "29    FDP - Zweitstimmenanteil: Veränderung 2021-2017     0.000000\n"
     ]
    }
   ],
   "source": [
    "coef_df = pd.DataFrame({\n",
    "    'Variable': daten_lasso.columns,\n",
    "    'Coefficient': best_model.coef_\n",
    "})\n",
    "\n",
    "#print(lasso_cv.intercept_)\n",
    "print(coef_df)\n"
   ]
  },
  {
   "cell_type": "markdown",
   "id": "1d0a083b-93c0-42ad-b786-21041c62f1cf",
   "metadata": {},
   "source": [
    "#### b) <u>Interpretation des LASSO-Modells</u> <a name=\"2,3,b\"></a>\n",
    "\n",
    "Es wird sich gleich herausstellen, dass diese Koeffizienten leider nicht besonders stabil sind. Aber *exemplum gratia* tue ich so, als seien sie stabil, und erkläre, wie man diese Koeffizienten interpretieren könnte:  \n",
    "\n",
    "1. Die <u>Wahlbeteiligung</u> hat einen Koeffizienten von Null, aber ihre *Veränderung* hat einen moderat negativen Koeffizienten. Das deutet darauf hin, dass der SPD-Wählerblock stabiler ist als der anderer Parteien. Wenn die Wahlbeteiligung steigt und die rohe Anzahl der SPD-Wähler zunimmt, müssen die Stimmen anderer Parteien noch stärker ansteigen, da der SPD-Anteil bei höherer Wahlbeteiligung sinkt. Dies könnte darauf hinweisen, dass Wähler anderer Parteien wankelmütiger oder leichter zu mobilisieren sind.\n",
    "\n",
    "2. Der Erststimmenanteil <u>der Linken</u> hat einen negativen Koeffizienten, aber die Veränderung dieses Anteils einen moderat positiven. Was auch immer dazu führt, dass Wähler der Linken zur Wahl gehen, führt auch dazu, dass SPD-Wähler zur Wahl gehen (der positive Koeffizient). Aber unter sonst gleichen Bedingungen, einschließlich der Gesamtwahlbeteiligung (!), bedeutet eine Stimme mehr für die Linke eine Stimme weniger für die SPD, da es direkte Konkurrenz gibt (der negative Koeffizient). Es könnte auch sein, dass die Linke, unter sonst gleichen Bedingungen, Stimmen von der SPD stiehlt, aber *noch mehr* von der Konkurrenz stiehlt; dann könnte ein erhöhter Stimmenanteil für die Linke weniger für die SPD bedeuten, aber „noch mehr weniger“ für die Konkurrenz außerhalb von Linke und SPD.\n",
    "\n",
    "3. Der Koeffizient für den Zweitstimmenanteil <u>der AfD</u> ist Null, was darauf hindeutet, dass es keine direkte Konkurrenz zwischen SPD und AfD um Wählerstimmen gibt. Die Veränderung der AfD-Zweitstimmen hat einen negativen Koeffizienten, was darauf hindeutet, dass AfD-Wähler durch andere Faktoren mobilisiert werden, die auch die SPD-Wähler beeinflussen. Was auch immer einen größeren Anstieg der Wahlbeteiligung der AfD verursacht (also ein Anstieg von 0 auf 30 statt von 20 auf 30), führt auch zu einer geringeren Wahlbeteiligung für die SPD oder zu mehr Stimmen für andere Parteien.\n",
    "\n",
    "4. Die Zweitstimmenanteile für <u>FDP und Grüne</u> haben stark negative Koeffizienten, während die Veränderung dieser Anteile Koeffizienten von Null hat. Das deutet auf starken Wettbewerb zwischen der SPD und diesen Parteien hin: In Stadtteilen, in denen die Grünen oder die FDP mehr Stimmen erhalten, hat die SPD tendenziell weniger Stimmen. Die Faktoren, die den Stimmenanteil der Grünen oder der FDP im Laufe der Zeit erhöhen oder verringern, haben jedoch keinen bedeutenden Einfluss auf den Stimmenanteil der SPD. (Das ist das intuitive Ergebnis. Warum sollte die Veränderung statt der tatsächliche Stimmenanteil irgendeine Rolle spielen?)  \n",
    "\n",
    "Jetzt passe ich ein LASSO-Modell nur auf die Stimmenergebnisse an:"
   ]
  },
  {
   "cell_type": "code",
   "execution_count": 138,
   "id": "ca8ca4a4-9b37-4d3d-b1f2-f60348fbc4bb",
   "metadata": {
    "editable": true,
    "slideshow": {
     "slide_type": ""
    },
    "tags": [
     "hide"
    ]
   },
   "outputs": [],
   "source": [
    "daten_lasso_stimmen = daten_lasso.iloc[:, 8:]"
   ]
  },
  {
   "cell_type": "code",
   "execution_count": 139,
   "id": "9a308d52-518f-4f4d-a94e-b59c845d9a6c",
   "metadata": {
    "editable": true,
    "slideshow": {
     "slide_type": ""
    },
    "tags": [
     "hide"
    ]
   },
   "outputs": [
    {
     "name": "stdout",
     "output_type": "stream",
     "text": [
      "Root Mean Squared Error: 0.164\n",
      "                                             Variable  Coefficient\n",
      "0                            Wahlbeteiligung (%) 2021    -0.624041\n",
      "1              Wahlbeteiligung: Veränderung 2021-2017     0.000000\n",
      "2                   CDU - Erststimmenanteil (%)  2021    -1.520083\n",
      "3      CDU - Erststimmenanteil: Veränderung 2021-2017    -0.104563\n",
      "4             DIE LINKE - Erststimmenanteil (%)  2021    -2.522169\n",
      "5   DIE LINKE - Erststimmenanteil: Veränderung 202...     0.557489\n",
      "6                 GRÜNE - Erststimmenanteil (%)  2021    -0.000000\n",
      "7    GRÜNE - Erststimmenanteil: Veränderung 2021-2017    -0.000000\n",
      "8                   AfD - Erststimmenanteil (%)  2021    -0.000000\n",
      "9      AfD - Erststimmenanteil: Veränderung 2021-2017    -0.000000\n",
      "10                  FDP - Erststimmenanteil (%)  2021    -0.000000\n",
      "11     FDP - Erststimmenanteil: Veränderung 2021-2017    -0.000000\n",
      "12                 CDU - Zweitstimmenanteil (%)  2021    -2.239762\n",
      "13    CDU - Zweitstimmenanteil: Veränderung 2021-2017     0.000000\n",
      "14           DIE LINKE - Zweitstimmenanteil (%)  2021    -0.652327\n",
      "15  DIE LINKE - Zweitstimmenanteil: Veränderung 20...    -0.581354\n",
      "16               GRÜNE - Zweitstimmenanteil (%)  2021    -6.242644\n",
      "17  GRÜNE - Zweitstimmenanteil: Veränderung 2021-2017    -0.418176\n",
      "18                 AfD - Zweitstimmenanteil (%)  2021    -2.902884\n",
      "19    AfD - Zweitstimmenanteil: Veränderung 2021-2017    -0.492824\n",
      "20                 FDP - Zweitstimmenanteil (%)  2021    -2.667513\n",
      "21    FDP - Zweitstimmenanteil: Veränderung 2021-2017    -0.342946\n"
     ]
    }
   ],
   "source": [
    "pipeline.fit(daten_lasso_stimmen, y_lasso)\n",
    "y_pred_stimmen = pipeline.predict(daten_lasso_stimmen)\n",
    "rmse_stimmen = np.sqrt(mean_squared_error(y_lasso, y_pred_stimmen))\n",
    "print(f\"Root Mean Squared Error: {rmse_stimmen:.3f}\")\n",
    "best_model = pipeline.named_steps['lasso_cv']\n",
    "\n",
    "coef_df_stimmen = pd.DataFrame({\n",
    "    'Variable': daten_lasso_stimmen.columns,\n",
    "    'Coefficient': best_model.coef_\n",
    "})\n",
    "\n",
    "print(coef_df_stimmen)"
   ]
  },
  {
   "cell_type": "markdown",
   "id": "cbb9c92e-7400-4df7-ae75-f7b85d0559ed",
   "metadata": {},
   "source": [
    "<a name=\"Zweitstimmen-Konkurrenz\"></a>\n",
    "Der RMSE von 0,164 ist etwas besser als bei dem anderen Modell. Das liegt vermutlich daran, dass in diesem Modell mehr Koeffizienten ungleich Null sind. Das ist allerdings nicht unbedingt positiv, da das Modell dadurch eher „überangepasst“ ist, was sich gleich zeigen wird.\n",
    "\n",
    "Im Allgemeinen sind die Koeffizienten nicht besonders stabil. Viele Koeffizienten sind größer oder kleiner als im ersten Modell oder haben sogar andere Vorzeichen. Deshalb sollte man die Ergebnisse nicht zu genau analysieren; auch meine Interpretationen der Koeffizienten oben sind daher in der Realität nicht signifikant. \n",
    "\n",
    "Grob lässt sich sagen, dass es bei den Zweitstimmen <u>härtere Konkurrenz</u> gibt – bis auf bei der Linken –, da bei den Erststimmen häufiger Koeffizienten Null sind. Auch zeigt sich, dass die Anteile wichtiger sind als die Veränderungen (warum auch nicht? Genau so hätte man es erwartet). Außerdem variiert die Intensität der Konkurrenz zwischen den Parteien und der SPD nicht besonders stark, da die Koeffizienten meist um $-2,5$ liegen, mit Ausnahme des Koeffizienten für den Zweitstimmenanteil der Grünen."
   ]
  },
  {
   "cell_type": "markdown",
   "id": "af6bfbc7-7785-474f-a796-61fef57fa142",
   "metadata": {},
   "source": [
    "<a name=\"Wahlbeteiligung2\"></a>\n",
    "Der Koeffizient der <u>Wahlbeteiligung</u> ist mal Null, mal ungleich Null, was darauf hindeutet, dass sie relativ zu anderen Faktoren weniger entscheidend ist, obwohl die einfache Korrelation stark negativ ist (siehe ganz am [Anfang der Analyse](#Wahlbeteiligung1)). Das deutet darauf hin, dass diese Korrelation durch Multikollinearität verursacht wird und nicht „echt“ ist. LASSO ist robuster gegenüber Multikollinearität und zeigt korrekt, dass die stark negative Korrelation keine unabhängigen Informationen liefert."
   ]
  },
  {
   "cell_type": "markdown",
   "id": "48a04da6-d003-42a9-964c-2797c3554db1",
   "metadata": {},
   "source": [
    "#### c) <u>Validierung der Modelle</u> <a name=\"2,3,c\"></a>  \n",
    "Der beste Test eines statistischen Modells ist, es auf einen frischen Datensatz loszulassen; auch der Grund, warum Replikation von Experimenten so wichtig ist, denn jedes neue Experiment produziert vorher noch nie dagewesene Daten. Ich könnte die Modelle an den Wahldaten 2023 (oder 2017) testen. Stattdessen wähle ich die typischere (weil einfachere) Variante, meinen Datensatz in zwei Teile aufzusplitten. Ein Fünftel wird mein Testdatensatz, auf dem rest werden die Modelle trainiert.  \n",
    "\n",
    "Die zwei Modelle sind das volle Modell mit allen sozialen Daten und den Wahlergebnissen für die Parteien und das kleinere Modell mit nur den Wahlergebnissen:"
   ]
  },
  {
   "cell_type": "code",
   "execution_count": 140,
   "id": "4be21048-3e7b-4eb2-ae12-6c5201525ff7",
   "metadata": {
    "editable": true,
    "scrolled": true,
    "slideshow": {
     "slide_type": ""
    },
    "tags": [
     "hide"
    ]
   },
   "outputs": [
    {
     "name": "stdout",
     "output_type": "stream",
     "text": [
      "Root Mean Squared Error, full model: 1.751\n",
      "Root Mean Squared Error, small model: 1.821\n"
     ]
    }
   ],
   "source": [
    "X_train, X_test, y_train, y_test = train_test_split(daten_lasso, y_lasso, test_size=0.2, random_state=42)\n",
    "X_train_, X_test_, y_train_, y_test_ = train_test_split(daten_lasso_stimmen, y_lasso, test_size=0.2, random_state=42)\n",
    "\n",
    "# How well does the full model perform\n",
    "pipeline.fit(X_train, y_train)\n",
    "\n",
    "y_pred = pipeline.predict(X_test)\n",
    "rmse_full = np.sqrt(mean_squared_error(y_test, y_pred))\n",
    "print(f\"Root Mean Squared Error, full model: {rmse_full:.3f}\")\n",
    "\n",
    "# How well does the smaller model perform\n",
    "pipeline.fit(X_train_, y_train_)\n",
    "\n",
    "y_pred_ = pipeline.predict(X_test_)\n",
    "rmse_small = np.sqrt(mean_squared_error(y_test_, y_pred_))\n",
    "print(f\"Root Mean Squared Error, small model: {rmse_small:.3f}\")"
   ]
  },
  {
   "cell_type": "markdown",
   "id": "5ab80b13-45e9-466d-9068-3702673f78be",
   "metadata": {},
   "source": [
    "Obwohl das kleinere Modell oben einen geringeren Fehler aufwies, zeigt sich hier, dass es auf den ungesehenen Daten einen größeren Fehler hat. Dies deutet darauf hin, dass das kleinere Modell überangepasst ist!  \n",
    "&nbsp;&nbsp;&nbsp;&nbsp;In allen Daten gibt es immer etwas „noise,“ also zufällige Variation. Wenn statistische Modelle zu genau auf ihre Trainingsdaten angepasst werden, interpretieren sie dieses „noise“ fälschlicherweise als Signal oder Information. Bei der Vorhersage neuer Daten verwenden sie dann teilweise dieses „noise,“ was zwangsläufig zu schlechteren Vorhersagen führt, da „noise“ per Definition nicht informativ ist.  \n",
    "\n",
    "Wie kann es sein, dass ein kleineres Modell schlimmer überangepasst wird, als ein größeres? Wie oben erwähnt, hat das volle Modell tatsächlich *weniger* Koeffizienten, die ungleich Null sind. Daher ist das volle Modell effektiv kleiner als das „kleine“ Modell."
   ]
  },
  {
   "cell_type": "markdown",
   "id": "7f4ab1b5-04ed-4b2e-9971-34c1302c75c6",
   "metadata": {},
   "source": [
    "#### d) <u>Verstehen vs. Voraussagen</u> <a name=\"2,3,d\"></a>  \n",
    "An dieser Stelle lohnt es sich auch, auf den Unterschied zwischen Inferenz und Voraussagen aufmerksam zu machen. Das lineare Modell, das die multiple Regression am Anfang repräsentierte, war letztendlich schwer zu interpretieren, da die unabhängigen Variablen zu stark miteinander korrelierten. Es war unklar, welche Variablen signifikant sind und welche aus dem Modell entfernt werden sollten. Das LASSO-Modell bot eine einfachere Interpretation, da die Koeffizienten relativ klar die Bedeutung der Variablen widerspiegelten.\n",
    "\n",
    "Das bedeutet jedoch nicht, dass LASSO die besseren Voraussagen liefert! In der nächsten Zelle werde ich die Vorhersagen einer multiplen Regression, die auf vier Fünfteln der Daten trainiert wurde, auf dem verbleibenden Fünftel testen:"
   ]
  },
  {
   "cell_type": "code",
   "execution_count": 146,
   "id": "0353c356-72ef-4b10-84a7-a46d14c30b8f",
   "metadata": {},
   "outputs": [
    {
     "name": "stdout",
     "output_type": "stream",
     "text": [
      "Root Mean Squared Error, linear regression: 1.071\n"
     ]
    }
   ],
   "source": [
    "LinReg = LinearRegression()\n",
    "linreg_pred = LinReg.fit(X_train, y_train).predict(X_test)\n",
    "\n",
    "rmse_linreg = np.sqrt(mean_squared_error(y_test, linreg_pred))\n",
    "print(f\"Root Mean Squared Error, linear regression: {rmse_linreg:.3f}\")"
   ]
  },
  {
   "cell_type": "markdown",
   "id": "06dc76ea-db8e-41bb-b511-9d197a240f9e",
   "metadata": {},
   "source": [
    "Diese Spannung zwischen Verstehen und Voraussagen (oder *inference* und *prediction*) besteht noch stärker bei den leistungsstärksten Modellen im Machine Learning. „Extreme Gradient Boosting“ oder neuronale Netze sind oft völlig undurchsichtig, zeigen jedoch unschlagbare Leistungen auf Daten, für die sie gut angepasst sind. Bei einem Boosting-Modell kann man keine Parameter erhalten, die Einblicke in die zugrunde liegende kausale Struktur geben. Aber da solche Modelle sehr sensibel auf nicht-lineare Effekte und Interaktionen reagieren, übertreffen sie lineare Modelle, wenn die Realität tatsächlich komplexe nicht-lineare Zusammenhänge und Interaktionen aufweist."
   ]
  },
  {
   "cell_type": "markdown",
   "id": "671b3daf-4a61-48eb-874d-53dab06abd3d",
   "metadata": {
    "editable": true,
    "slideshow": {
     "slide_type": ""
    },
    "tags": []
   },
   "source": [
    "## Mit Kanonen auf Spatzen: Random Forests und Boosting <a name=\"2,4\"></a>  \n",
    "[Hoch](#toc)"
   ]
  },
  {
   "cell_type": "markdown",
   "id": "828c9bb5-d348-4ed3-aa7c-01cfe37bf519",
   "metadata": {},
   "source": [
    "Die Kurzzusammenfassung dieses Teils ist, dass stark nicht-lineare Modelle schlechter performen als die linearen Modelle. Dies deutet darauf hin, dass der Zusammenhang zwischen den Stimmenanteilen der SPD und den sozialen Daten sowie den Wahlergebnissen der anderen Parteien im Wesentlichen linear und unkompliziert ist.\n",
    "\n",
    "Die Performance dieser Modelle könnte durch intensiveres Hyperparameter-Tuning verbessert werden. Im Gegensatz zur linearen Regression haben diese Modelle viele Parameter, die vom Charakter wie das $\\lambda$ bei LASSO sind: Die Anzahl der „Bäume“ (*trees*); die Tiefe der Bäume oder die Größe der Blätter; die Anzahl der Variablen, die in jedem Split benutzt werden; *pruning* oder kein *pruning*, wenn ja, wie stark; … All diese Variablen müssen durch Cross-Validation optimiert werden, um die beste Modellperformance zu erzielen."
   ]
  },
  {
   "cell_type": "code",
   "execution_count": 149,
   "id": "e74d34c7-7eaa-4f84-8865-30ac4eed208e",
   "metadata": {},
   "outputs": [],
   "source": [
    "daten_tree = daten_lasso.copy()\n",
    "y_tree = daten['SPD - Erststimmenanteil (%)  2021']\n"
   ]
  },
  {
   "cell_type": "code",
   "execution_count": 151,
   "id": "991ca81b-56d1-46fb-b37a-df124fa05967",
   "metadata": {
    "editable": true,
    "slideshow": {
     "slide_type": ""
    },
    "tags": []
   },
   "outputs": [
    {
     "name": "stdout",
     "output_type": "stream",
     "text": [
      "                                              Feature  Importance\n",
      "28                 FDP - Zweitstimmenanteil (%)  2021    0.085837\n",
      "18                  FDP - Erststimmenanteil (%)  2021    0.084939\n",
      "8                            Wahlbeteiligung (%) 2021    0.080414\n",
      "16                  AfD - Erststimmenanteil (%)  2021    0.073383\n",
      "17     AfD - Erststimmenanteil: Veränderung 2021-2017    0.071408\n",
      "4                                anteil_letztes_quint    0.052340\n",
      "2                                    anteil_ausländer    0.050784\n",
      "9              Wahlbeteiligung: Veränderung 2021-2017    0.048676\n",
      "6                           sgbII_leistungen_vor_wahl    0.044080\n",
      "15   GRÜNE - Erststimmenanteil: Veränderung 2021-2017    0.042215\n",
      "5                          arbeitslosenquote_vor_wahl    0.038396\n",
      "27    AfD - Zweitstimmenanteil: Veränderung 2021-2017    0.031970\n",
      "7                                      sgbII_pro_kopf    0.028558\n",
      "19     FDP - Erststimmenanteil: Veränderung 2021-2017    0.027210\n",
      "26                 AfD - Zweitstimmenanteil (%)  2021    0.026963\n",
      "14                GRÜNE - Erststimmenanteil (%)  2021    0.025049\n",
      "10                  CDU - Erststimmenanteil (%)  2021    0.024914\n",
      "29    FDP - Zweitstimmenanteil: Veränderung 2021-2017    0.024019\n",
      "25  GRÜNE - Zweitstimmenanteil: Veränderung 2021-2017    0.023754\n",
      "3                                 anteil_erstes_quint    0.021371\n",
      "21    CDU - Zweitstimmenanteil: Veränderung 2021-2017    0.020593\n",
      "13  DIE LINKE - Erststimmenanteil: Veränderung 202...    0.011849\n",
      "11     CDU - Erststimmenanteil: Veränderung 2021-2017    0.010453\n",
      "22           DIE LINKE - Zweitstimmenanteil (%)  2021    0.010108\n",
      "0                                     num_bevölkerung    0.009895\n",
      "1                                       num_ausländer    0.009288\n",
      "12            DIE LINKE - Erststimmenanteil (%)  2021    0.007886\n",
      "20                 CDU - Zweitstimmenanteil (%)  2021    0.005101\n",
      "23  DIE LINKE - Zweitstimmenanteil: Veränderung 20...    0.004771\n",
      "24               GRÜNE - Zweitstimmenanteil (%)  2021    0.003777\n"
     ]
    }
   ],
   "source": [
    "rf_model = RandomForestRegressor(random_state=42)\n",
    "\n",
    "# RMSE for the RF regressor\n",
    "rf_model.fit(X_train, y_train)\n",
    "y_pred = rf_model.predict(X_test)\n",
    "\n",
    "rmse_test = np.sqrt(mean_squared_error(y_test, y_pred))\n",
    "\n",
    "# Feature importance\n",
    "feature_importances = pd.DataFrame({'Feature': daten_tree.columns, 'Importance': rf_model.feature_importances_})\n",
    "feature_importances = feature_importances.sort_values(by='Importance', ascending=False)\n",
    "\n",
    "print(feature_importances)\n"
   ]
  },
  {
   "cell_type": "markdown",
   "id": "983858b2-08c5-40d0-bcd7-c6ff0313b692",
   "metadata": {},
   "source": [
    "Es gibt zwar keine Parameter, die man sich angucken könnte, aber es gibt „*feature importances*,“ die allerdings eine etwas abstrakte Größe messen. Wie man direkt oben sieht, gibt es auch kein richtiges Muster. Und die *feature importances* beim *boosting* (zwei Zellen weiter unten) sind relativ verschieden. Ich würde diese zahlen nicht zu ernst nehmen.\n",
    "\n",
    "Die nächste Zelle zeigt, dass der *random forest* schlechter performt, als die linearen Modelle:"
   ]
  },
  {
   "cell_type": "code",
   "execution_count": 152,
   "id": "9d24acd4-dbf5-4def-ada1-fd73a39f77da",
   "metadata": {
    "editable": true,
    "slideshow": {
     "slide_type": ""
    },
    "tags": [
     "hide"
    ]
   },
   "outputs": [
    {
     "name": "stdout",
     "output_type": "stream",
     "text": [
      "Root Mean Squared Error, no validation: 1.1972\n",
      "Root Mean Squared Error, yes validation: 4.0213\n"
     ]
    }
   ],
   "source": [
    "rf_model.fit(daten_tree, y_tree)\n",
    "full_pred_rf = rf_model.predict(daten_tree)\n",
    "\n",
    "rmse_notest = np.sqrt(mean_squared_error(y_tree, full_pred_rf))\n",
    "\n",
    "print(f'Root Mean Squared Error, no validation: {rmse_notest:.4f}')\n",
    "print(f'Root Mean Squared Error, yes validation: {rmse_test:.4f}')\n"
   ]
  },
  {
   "cell_type": "markdown",
   "id": "340e3a7e-2711-4b88-a1bd-84f891a8d559",
   "metadata": {},
   "source": [
    "Der Fehler des Modells ist mehrmals größer als der Fehler vom LASSO, sowohl wenn ich den *random forest* auf frischen Daten teste, als auch wenn nicht.\n",
    "\n",
    "Als letztes passe ich das stärkste mir bekannte Modell an: `XGBoost`. Man vergleiche die *feature importances* mit denen von oben und erkenne kein Muster. Darunter ist der Fehler des Modells als *root mean square error*."
   ]
  },
  {
   "cell_type": "code",
   "execution_count": 157,
   "id": "7b218b19-3702-4182-89b2-56c963a67fc5",
   "metadata": {},
   "outputs": [
    {
     "name": "stdout",
     "output_type": "stream",
     "text": [
      "                                              Feature    Importance\n",
      "16                  AfD - Erststimmenanteil (%)  2021  6.410742e-01\n",
      "2                                    anteil_ausländer  1.543060e-01\n",
      "18                  FDP - Erststimmenanteil (%)  2021  8.559006e-02\n",
      "28                 FDP - Zweitstimmenanteil (%)  2021  8.475830e-02\n",
      "9              Wahlbeteiligung: Veränderung 2021-2017  2.053055e-02\n",
      "0                                     num_bevölkerung  5.657035e-03\n",
      "1                                       num_ausländer  5.275896e-03\n",
      "13  DIE LINKE - Erststimmenanteil: Veränderung 202...  2.740611e-03\n",
      "14                GRÜNE - Erststimmenanteil (%)  2021  3.839945e-05\n",
      "3                                 anteil_erstes_quint  1.297326e-05\n",
      "5                          arbeitslosenquote_vor_wahl  7.901166e-06\n",
      "6                           sgbII_leistungen_vor_wahl  6.134392e-06\n",
      "4                                anteil_letztes_quint  1.325273e-06\n",
      "21    CDU - Zweitstimmenanteil: Veränderung 2021-2017  4.358324e-07\n",
      "11     CDU - Erststimmenanteil: Veränderung 2021-2017  3.147557e-08\n",
      "19     FDP - Erststimmenanteil: Veränderung 2021-2017  2.206468e-08\n",
      "8                            Wahlbeteiligung (%) 2021  2.025824e-08\n",
      "29    FDP - Zweitstimmenanteil: Veränderung 2021-2017  1.504093e-08\n",
      "17     AfD - Erststimmenanteil: Veränderung 2021-2017  0.000000e+00\n",
      "12            DIE LINKE - Erststimmenanteil (%)  2021  0.000000e+00\n",
      "20                 CDU - Zweitstimmenanteil (%)  2021  0.000000e+00\n",
      "10                  CDU - Erststimmenanteil (%)  2021  0.000000e+00\n",
      "22           DIE LINKE - Zweitstimmenanteil (%)  2021  0.000000e+00\n",
      "23  DIE LINKE - Zweitstimmenanteil: Veränderung 20...  0.000000e+00\n",
      "24               GRÜNE - Zweitstimmenanteil (%)  2021  0.000000e+00\n",
      "25  GRÜNE - Zweitstimmenanteil: Veränderung 2021-2017  0.000000e+00\n",
      "26                 AfD - Zweitstimmenanteil (%)  2021  0.000000e+00\n",
      "27    AfD - Zweitstimmenanteil: Veränderung 2021-2017  0.000000e+00\n",
      "7                                      sgbII_pro_kopf  0.000000e+00\n",
      "15   GRÜNE - Erststimmenanteil: Veränderung 2021-2017  0.000000e+00\n"
     ]
    }
   ],
   "source": [
    "xgb_reg = xgb.XGBRegressor(objective='reg:squarederror', random_state=42)\n",
    "xgb_reg.fit(X_train, y_train)\n",
    "\n",
    "# How well does the model perform\n",
    "y_pred = xgb_reg.predict(X_test)\n",
    "rmse_validation = mean_squared_error(y_test, y_pred, squared=False)\n",
    "\n",
    "# Feature importances \n",
    "importances_boost = xgb_reg.feature_importances_\n",
    "importance_df = pd.DataFrame({'Feature': X_train.columns, 'Importance': importances_boost})\n",
    "print(importance_df.sort_values(by='Importance', ascending=False))"
   ]
  },
  {
   "cell_type": "code",
   "execution_count": 158,
   "id": "1d9480c7-ebd5-4b58-b4c1-c3695563cf62",
   "metadata": {
    "editable": true,
    "slideshow": {
     "slide_type": ""
    },
    "tags": []
   },
   "outputs": [
    {
     "name": "stdout",
     "output_type": "stream",
     "text": [
      "RMSE, no validation: 0.000\n",
      "RMSE, yes validation: 6.104\n"
     ]
    }
   ],
   "source": [
    "xgb_reg.fit(daten_tree, y_tree)\n",
    "\n",
    "full_pred_boost = xgb_reg.predict(daten_tree)\n",
    "rmse_full = mean_squared_error(y_tree, full_pred_boost, squared=False)\n",
    "\n",
    "print(f\"RMSE, no validation: {rmse_full:.3f}\")\n",
    "print(f\"RMSE, yes validation: {rmse_validation:.3f}\")\n"
   ]
  },
  {
   "cell_type": "markdown",
   "id": "e4ff526c-60f4-4282-bc43-0cf5ebe9d354",
   "metadata": {},
   "source": [
    "`XGBoost` ist *noch* schlechter als der *random forest*. Außerdem zeigt der Unterschied zwischen den Fehlern mit und ohne Validieren auf frischen Daten einen wichtigen Unterschied zwischen *gradient boosting* und *random forests*:  \n",
    "&nbsp;&nbsp;&nbsp;&nbsp;Es ist im Prinzip unmöglich, *random forests* überanzupassen, wenn man die einzelnen *trees* nicht zu tief macht; mehr ist besser. Dasselbe gilt nicht für *boosting*! Ohne Validieren geht der Fehler des Modells auf Null, weil es sich genau an die Trainingsdaten anpasst. "
   ]
  },
  {
   "cell_type": "markdown",
   "id": "f2407f45-8c9b-4ba0-a35c-b69465c7e4bc",
   "metadata": {
    "editable": true,
    "slideshow": {
     "slide_type": ""
    },
    "tags": []
   },
   "source": [
    "# Was könnte man sonst noch machen? <a name=\"3\"></a>  \n",
    "[Hoch](#toc)"
   ]
  },
  {
   "cell_type": "markdown",
   "id": "21d7f23b-d8d5-4565-814b-3250f2b59db6",
   "metadata": {
    "editable": true,
    "slideshow": {
     "slide_type": ""
    },
    "tags": []
   },
   "source": [
    "Vor allem sollte man die Modelle mit anderen Daten Prüfen. Stadtteile sind nicht die einzige Verwaltungseinheit und, wenn es irgendwie möglich ist, wäre eine representative Stichprobe von tatsächlichen Individuen Gold wert. Man könnte eine Zeitreihenanalyse versuchen oder wenigstens dieselben Verwaltungseinheiten über mehrere Jahre hinweg beobachten. Statt nur statische Variablen zu benutzen um eine statische variable zu erklären, könnte man die *Veränderungen* über die Zeit in Arbeitslosigkeit etc. benutzen, um Veränderungen im SPD-Stimmenanteil vorherzusagen. Man könnte die Modelle auf den Daten der anderen Parteien trainieren, um herauszufinden, was deren Wahlerfolg beeinflusst.\n",
    "\n",
    "Um tatsächlich ein Modell auszusuchen, sollte mehr *cross validation* benutzt werden, idealerweise mit verschiedenen Aufteilungen.  \n",
    "Statt nur Regression könnte man auch Klassifizierungsmethoden verwenden, wie logistische Regression, LDA, Support Vector Classifier oder fortgeschrittenere Methoden wie den Random Forest Classifier und XGBoost Classifier. Diese könnten helfen, Gebiete in starke und schwache Unterstützung für die SPD oder in hohe und niedrige Wahlbeteiligung zu unterteilen. Zudem könnte die Wahrscheinlichkeit errechnet werden, dass ein Gebiet bei einer zukünftigen Wahl stark oder schwach abschneidet, was für Wahlkampfstrategien nützlich wäre. Beispielsweise könnte in einem Gebiet mit niedriger Wahlbeteiligung aber starker Unterstützung Mobilisierung eine bessere Strategie sein als der Versuch, Wähler umzustimmen.\n",
    "\n",
    "Eine Alternative zur Faktorenanalyse wäre die Principal Components Analysis (PCA). Beide Methoden sollten systematisch verglichen werden. Außerdem könnte „Forward Selection“ eine Alternative zum LASSO sein, wenn Cross-Validation verwendet wird; P-Werte sind hier in allen Kontexten nicht legitim."
   ]
  }
 ],
 "metadata": {
  "kernelspec": {
   "display_name": "Python 3 (ipykernel)",
   "language": "python",
   "name": "python3"
  },
  "language_info": {
   "codemirror_mode": {
    "name": "ipython",
    "version": 3
   },
   "file_extension": ".py",
   "mimetype": "text/x-python",
   "name": "python",
   "nbconvert_exporter": "python",
   "pygments_lexer": "ipython3",
   "version": "3.11.5"
  }
 },
 "nbformat": 4,
 "nbformat_minor": 5
}
